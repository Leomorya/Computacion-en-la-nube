{
 "cells": [
  {
   "cell_type": "code",
   "execution_count": 1,
   "id": "53400ba8-e3ee-4f48-be96-e34faa1107cb",
   "metadata": {},
   "outputs": [
    {
     "name": "stdout",
     "output_type": "stream",
     "text": [
      "Trabajando desde el servidor\n"
     ]
    }
   ],
   "source": [
    "print(\"Trabajando desde el servidor\")"
   ]
  },
  {
   "cell_type": "code",
   "execution_count": null,
   "id": "730be118-9f8c-4d4b-a170-75dbd003d01d",
   "metadata": {},
   "outputs": [],
   "source": []
  }
 ],
 "metadata": {
  "kernelspec": {
   "display_name": "Python 3 (ipykernel)",
   "language": "python",
   "name": "python3"
  },
  "language_info": {
   "codemirror_mode": {
    "name": "ipython",
    "version": 3
   },
   "file_extension": ".py",
   "mimetype": "text/x-python",
   "name": "python",
   "nbconvert_exporter": "python",
   "pygments_lexer": "ipython3",
   "version": "3.10.12"
  }
 },
 "nbformat": 4,
 "nbformat_minor": 5
}
