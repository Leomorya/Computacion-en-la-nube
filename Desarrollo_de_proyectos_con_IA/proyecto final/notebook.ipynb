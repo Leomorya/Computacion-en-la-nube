{
 "cells": [
  {
   "cell_type": "code",
   "execution_count": 5,
   "metadata": {},
   "outputs": [],
   "source": [
    "from langchain_ollama import ChatOllama\n",
    "from langchain.memory import ConversationBufferMemory\n",
    "from langchain_core.messages import SystemMessage\n",
    "from langchain_core.prompts import ChatPromptTemplate\n",
    "from langchain_core.prompts.chat import (\n",
    "    ChatPromptTemplate,\n",
    "    HumanMessagePromptTemplate,\n",
    "    MessagesPlaceholder,\n",
    ")\n"
   ]
  },
  {
   "cell_type": "code",
   "execution_count": 6,
   "metadata": {},
   "outputs": [],
   "source": [
    "llm = ChatOllama(\n",
    "    model=\"llama3.1\",\n",
    "    temperature=0,\n",
    "    # other params...\n",
    ")"
   ]
  },
  {
   "cell_type": "code",
   "execution_count": 7,
   "metadata": {},
   "outputs": [
    {
     "name": "stderr",
     "output_type": "stream",
     "text": [
      "/tmp/ipykernel_4284/1114234516.py:10: LangChainDeprecationWarning: Please see the migration guide at: https://python.langchain.com/docs/versions/migrating_memory/\n",
      "  memory = ConversationBufferMemory(memory_key=\"chat_history\", return_messages=True)\n",
      "/tmp/ipykernel_4284/1114234516.py:12: LangChainDeprecationWarning: The class `LLMChain` was deprecated in LangChain 0.1.17 and will be removed in 1.0. Use :meth:`~RunnableSequence, e.g., `prompt | llm`` instead.\n",
      "  legacy_chain = LLMChain(\n"
     ]
    }
   ],
   "source": [
    "\n",
    "prompt = ChatPromptTemplate(\n",
    "    [\n",
    "        \n",
    "        SystemMessage(\"Tu eres leomora un assitente de estudios\"),\n",
    "        MessagesPlaceholder(variable_name=\"chat_history\"),\n",
    "        HumanMessagePromptTemplate.from_template(\"{text}\"),\n",
    "    ]\n",
    ")\n",
    "\n",
    "memory = ConversationBufferMemory(memory_key=\"chat_history\", return_messages=True)\n",
    "\n",
    "legacy_chain = LLMChain(\n",
    "    llm=llm,\n",
    "    prompt=prompt,\n",
    "    memory=memory,\n",
    ")\n"
   ]
  },
  {
   "cell_type": "code",
   "execution_count": 8,
   "metadata": {},
   "outputs": [
    {
     "name": "stdout",
     "output_type": "stream",
     "text": [
      "{'text': \"Nice to meet you, Bob! I'm Leomora, your study assistant. How can I help you today? Do you need help with a specific subject or just want to get organized for the week?\", 'chat_history': [HumanMessage(content='my name is bob', additional_kwargs={}, response_metadata={}), AIMessage(content=\"Nice to meet you, Bob! I'm Leomora, your study assistant. How can I help you today? Do you need help with a specific subject or just want to get organized for the week?\", additional_kwargs={}, response_metadata={})]}\n"
     ]
    }
   ],
   "source": [
    "legacy_result = legacy_chain.invoke({\"text\": \"my name is bob\"})\n",
    "print(legacy_result)\n",
    "\n"
   ]
  },
  {
   "cell_type": "code",
   "execution_count": 9,
   "metadata": {},
   "outputs": [
    {
     "data": {
      "text/plain": [
       "{'text': 'Your name is Bob!',\n",
       " 'chat_history': [HumanMessage(content='my name is bob', additional_kwargs={}, response_metadata={}),\n",
       "  AIMessage(content=\"Nice to meet you, Bob! I'm Leomora, your study assistant. How can I help you today? Do you need help with a specific subject or just want to get organized for the week?\", additional_kwargs={}, response_metadata={}),\n",
       "  HumanMessage(content='what was my name', additional_kwargs={}, response_metadata={}),\n",
       "  AIMessage(content='Your name is Bob!', additional_kwargs={}, response_metadata={})]}"
      ]
     },
     "execution_count": 9,
     "metadata": {},
     "output_type": "execute_result"
    }
   ],
   "source": [
    "legacy_result = legacy_chain.invoke({\"text\": \"what was my name\"})\n",
    "legacy_result "
   ]
  },
  {
   "cell_type": "code",
   "execution_count": 10,
   "metadata": {},
   "outputs": [],
   "source": [
    "import ollama"
   ]
  },
  {
   "cell_type": "code",
   "execution_count": 19,
   "metadata": {},
   "outputs": [],
   "source": [
    "emb= ollama.embeddings(model='mxbai-embed-large', prompt='Represent this sentence for searching relevant passages: The sky is blue because of Rayleigh scattering')"
   ]
  },
  {
   "cell_type": "code",
   "execution_count": 20,
   "metadata": {},
   "outputs": [
    {
     "data": {
      "text/plain": [
       "1024"
      ]
     },
     "execution_count": 20,
     "metadata": {},
     "output_type": "execute_result"
    }
   ],
   "source": [
    "len(emb[\"embedding\"])"
   ]
  },
  {
   "cell_type": "code",
   "execution_count": 30,
   "metadata": {},
   "outputs": [],
   "source": [
    "from pinecone import Pinecone, PodSpec"
   ]
  },
  {
   "cell_type": "code",
   "execution_count": 35,
   "metadata": {},
   "outputs": [
    {
     "data": {
      "text/plain": [
       "{'indexes': [{'deletion_protection': 'disabled',\n",
       "              'dimension': 1024,\n",
       "              'host': 'lanto-6kvqwt9.svc.gcp-starter.pinecone.io',\n",
       "              'metric': 'cosine',\n",
       "              'name': 'lanto',\n",
       "              'spec': {'pod': {'environment': 'gcp-starter',\n",
       "                               'pod_type': 'starter',\n",
       "                               'pods': 1,\n",
       "                               'replicas': 1,\n",
       "                               'shards': 1}},\n",
       "              'status': {'ready': True, 'state': 'Ready'}}]}"
      ]
     },
     "execution_count": 35,
     "metadata": {},
     "output_type": "execute_result"
    }
   ],
   "source": [
    "PINECONE_API_KEY=\"d078b458-2829-4a0e-adb8-534011e5d430\"\n",
    "pc = Pinecone(api_key=PINECONE_API_KEY)\n",
    "pc.list_indexes()"
   ]
  },
  {
   "cell_type": "code",
   "execution_count": 32,
   "metadata": {},
   "outputs": [],
   "source": [
    "pc.delete_index(\"lanto\")"
   ]
  },
  {
   "cell_type": "code",
   "execution_count": 34,
   "metadata": {},
   "outputs": [],
   "source": [
    "index_name = \"lanto\"\n",
    "\n",
    "pc.create_index(\n",
    "name = index_name,\n",
    "dimension = 1024,\n",
    "spec = PodSpec(environment=\"gcp-starter\")\n",
    ")"
   ]
  },
  {
   "cell_type": "code",
   "execution_count": 20,
   "metadata": {},
   "outputs": [],
   "source": [
    "from langchain_community.document_loaders import PyPDFLoader\n",
    "loader = PyPDFLoader(\n",
    "    \"El libro de oro.pdf\",\n",
    ")\n"
   ]
  },
  {
   "cell_type": "code",
   "execution_count": 21,
   "metadata": {},
   "outputs": [
    {
     "data": {
      "text/plain": [
       "Document(metadata={'source': 'El libro de oro.pdf', 'page': 0}, page_content=' 1 \\n \\n \\n   \\nEL LIBRO DE ORO  \\nDE  \\n \\n \\n \\n \\nSAINT GERMAIN \\n \\n                  \\n \\n \\n ')"
      ]
     },
     "execution_count": 21,
     "metadata": {},
     "output_type": "execute_result"
    }
   ],
   "source": [
    "docs = loader.load()\n",
    "docs[0]"
   ]
  },
  {
   "cell_type": "code",
   "execution_count": 22,
   "metadata": {},
   "outputs": [],
   "source": [
    "from langchain_text_splitters import RecursiveCharacterTextSplitter\n",
    "text_splitter = RecursiveCharacterTextSplitter(chunk_size = 1000, chunk_overlap = 200)\n",
    "splits = text_splitter.split_documents(docs)\n"
   ]
  },
  {
   "cell_type": "code",
   "execution_count": 23,
   "metadata": {},
   "outputs": [],
   "source": [
    "from langchain_ollama import OllamaEmbeddings\n",
    "\n",
    "embed = OllamaEmbeddings(\n",
    "    model=\"mxbai-embed-large\"\n",
    ")\n"
   ]
  },
  {
   "cell_type": "code",
   "execution_count": 10,
   "metadata": {},
   "outputs": [],
   "source": [
    "from langchain_community.embeddings import HuggingFaceBgeEmbeddings \n",
    "embeddings = HuggingFaceBgeEmbeddings(model_name=\"all-mpnet-base-v2\")"
   ]
  },
  {
   "cell_type": "code",
   "execution_count": 24,
   "metadata": {},
   "outputs": [],
   "source": [
    "import os\n",
    "from langchain_pinecone import PineconeVectorStore\n",
    "os.environ[\"PINECONE_API_KEY\"] =  PINECONE_API_KEY\n",
    "# Configurar Pinecone para utilizar la GPU\n",
    "os.environ[\"PINECONE_GPU\"] = \"true\"\n",
    "\n",
    "vector_store = PineconeVectorStore(embedding=embed, index_name = index_name)\n",
    "\n",
    "\n"
   ]
  },
  {
   "cell_type": "code",
   "execution_count": 17,
   "metadata": {},
   "outputs": [],
   "source": [
    "pc.delete_index(\"lanto\")"
   ]
  },
  {
   "cell_type": "code",
   "execution_count": 61,
   "metadata": {},
   "outputs": [
    {
     "name": "stderr",
     "output_type": "stream",
     "text": [
      "/home/leomorya/Especializacion/Materias/Desarrollo_de_proyectos_con_IA/proyecto final/.venv/lib/python3.10/site-packages/torch/cuda/__init__.py:128: UserWarning: CUDA initialization: CUDA unknown error - this may be due to an incorrectly set up environment, e.g. changing env variable CUDA_VISIBLE_DEVICES after program start. Setting the available devices to be zero. (Triggered internally at ../c10/cuda/CUDAFunctions.cpp:108.)\n",
      "  return torch._C._cuda_getDeviceCount() > 0\n",
      "/home/leomorya/Especializacion/Materias/Desarrollo_de_proyectos_con_IA/proyecto final/.venv/lib/python3.10/site-packages/transformers/tokenization_utils_base.py:1617: FutureWarning: `clean_up_tokenization_spaces` was not set. It will be set to `True` by default. This behavior will be deprecated in transformers v4.45, and will be then set to `False` by default. For more details check this issue: https://github.com/huggingface/transformers/issues/31884\n",
      "  warnings.warn(\n"
     ]
    }
   ],
   "source": []
  },
  {
   "cell_type": "code",
   "execution_count": 25,
   "metadata": {},
   "outputs": [
    {
     "data": {
      "text/plain": [
       "<langchain_pinecone.vectorstores.PineconeVectorStore at 0x77f158100a00>"
      ]
     },
     "execution_count": 25,
     "metadata": {},
     "output_type": "execute_result"
    }
   ],
   "source": [
    "vector_store.from_documents(splits, embedding=embed, index_name = index_name)"
   ]
  },
  {
   "cell_type": "code",
   "execution_count": 45,
   "metadata": {},
   "outputs": [],
   "source": [
    "from langchain.retrievers.multi_query import MultiQueryRetriever\n",
    "\n",
    "question = \"que es la presencia yo soy?\"\n",
    "\n",
    "llm = ChatOllama(\n",
    "    model=\"llama3.1\",\n",
    "    temperature=0,\n",
    "    # other params...\n",
    ")\n",
    "\n",
    "retriever_from_llm = MultiQueryRetriever.from_llm(\n",
    "    retriever=vector_store.as_retriever(), llm=llm\n",
    ")\n"
   ]
  },
  {
   "cell_type": "code",
   "execution_count": 31,
   "metadata": {},
   "outputs": [],
   "source": [
    "# Set logging for the queries\n",
    "import logging\n",
    "\n",
    "logging.basicConfig()\n",
    "logging.getLogger(\"langchain.retrievers.multi_query\").setLevel(logging.INFO)\n",
    "\n",
    "\n"
   ]
  },
  {
   "cell_type": "code",
   "execution_count": 32,
   "metadata": {},
   "outputs": [
    {
     "name": "stderr",
     "output_type": "stream",
     "text": [
      "INFO:langchain.retrievers.multi_query:Generated queries: ['Here are three different versions of the original question:', 'What are the characteristics or features associated with the concept \"presence\" that I am?', 'What does it mean to be present, and how is this related to my own existence or identity?', 'How do people or entities typically experience or understand the concept of presence in relation to themselves?']\n"
     ]
    },
    {
     "data": {
      "text/plain": [
       "10"
      ]
     },
     "execution_count": 32,
     "metadata": {},
     "output_type": "execute_result"
    }
   ],
   "source": [
    "unique_docs = retriever_from_llm.invoke(question)\n",
    "len(unique_docs)"
   ]
  },
  {
   "cell_type": "code",
   "execution_count": null,
   "metadata": {},
   "outputs": [],
   "source": []
  },
  {
   "cell_type": "code",
   "execution_count": null,
   "metadata": {},
   "outputs": [],
   "source": [
    "import pandas as pd"
   ]
  },
  {
   "cell_type": "code",
   "execution_count": 1,
   "metadata": {},
   "outputs": [],
   "source": [
    "from langchain_community.document_loaders import PyPDFLoader\n",
    "from langchain_text_splitters import RecursiveCharacterTextSplitter\n",
    "from langchain_pinecone import PineconeVectorStore\n",
    "from langchain_ollama import OllamaEmbeddings\n",
    "import pandas as pd\n",
    "import os\n",
    "from langchain_pinecone import PineconeVectorStore\n",
    "import ftfy\n",
    "PINECONE_API_KEY=\"d078b458-2829-4a0e-adb8-534011e5d430\"\n",
    "os.environ[\"PINECONE_API_KEY\"] =  PINECONE_API_KEY\n",
    "index_name = \"lanto\"\n",
    "\n",
    "\n",
    "def cargar_libros(path_file, comentario):\n",
    "    \n",
    "    loader = PyPDFLoader(path_file)\n",
    "    docs = loader.load()\n",
    "    for doc in docs:\n",
    "        doc.page_content = ftfy.fix_text(doc.page_content)\n",
    "    df = pd.read_csv(\"file_libros\")\n",
    "    \n",
    "    npaginas = len(docs)\n",
    "    titulo = docs[0].metadata[\"source\"]\n",
    "    df.loc[len(df)] = [titulo, npaginas]\n",
    "\n",
    "    \n",
    "    if df[\"Título\"].duplicated().sum()!=0:\n",
    "        return \"Ya existe este documento en la base de datos vectorial\"\n",
    "\n",
    "      \n",
    "    df.to_csv(\"file_libros\", index=False)\n",
    "    text_splitter = RecursiveCharacterTextSplitter(chunk_size = 1000, chunk_overlap = 200)\n",
    "    splits = text_splitter.split_documents(docs)\n",
    "    embed = OllamaEmbeddings(model=\"mxbai-embed-large\")\n",
    "    vector_store = PineconeVectorStore(embedding=embed, index_name = index_name)\n",
    "    vector_store.from_documents(splits, embedding=embed, index_name = index_name)\n",
    "    \n",
    "    return \"el archivo path_file a sido cargado con exito\"  \n",
    "    \n",
    "\n",
    "    "
   ]
  },
  {
   "cell_type": "code",
   "execution_count": 3,
   "metadata": {},
   "outputs": [
    {
     "data": {
      "text/plain": [
       "'Ya existe este documento en la base de datos vectorial'"
      ]
     },
     "execution_count": 3,
     "metadata": {},
     "output_type": "execute_result"
    }
   ],
   "source": [
    "ruta = \"El libro de oro.pdf\"\n",
    "cargar_libros(ruta, \"este libro es genial\")"
   ]
  },
  {
   "cell_type": "code",
   "execution_count": 4,
   "metadata": {},
   "outputs": [
    {
     "data": {
      "text/html": [
       "<div>\n",
       "<style scoped>\n",
       "    .dataframe tbody tr th:only-of-type {\n",
       "        vertical-align: middle;\n",
       "    }\n",
       "\n",
       "    .dataframe tbody tr th {\n",
       "        vertical-align: top;\n",
       "    }\n",
       "\n",
       "    .dataframe thead th {\n",
       "        text-align: right;\n",
       "    }\n",
       "</style>\n",
       "<table border=\"1\" class=\"dataframe\">\n",
       "  <thead>\n",
       "    <tr style=\"text-align: right;\">\n",
       "      <th></th>\n",
       "      <th>Título</th>\n",
       "      <th>Número de páginas, comentarios</th>\n",
       "    </tr>\n",
       "  </thead>\n",
       "  <tbody>\n",
       "    <tr>\n",
       "      <th>0</th>\n",
       "      <td>El libro de oro.pdf</td>\n",
       "      <td>74</td>\n",
       "    </tr>\n",
       "  </tbody>\n",
       "</table>\n",
       "</div>"
      ],
      "text/plain": [
       "                Título  Número de páginas, comentarios\n",
       "0  El libro de oro.pdf                              74"
      ]
     },
     "execution_count": 4,
     "metadata": {},
     "output_type": "execute_result"
    }
   ],
   "source": [
    "df = pd.read_csv(\"file_libros\")\n",
    "df"
   ]
  },
  {
   "cell_type": "code",
   "execution_count": 1,
   "metadata": {},
   "outputs": [],
   "source": [
    "#import pandas as pd\n",
    "#df = pd.DataFrame\n",
    "# Crear DataFrame vacío\n",
    "#df = pd.DataFrame(columns=[\"Título\", \"Número de páginas, Comentarios\"])\n"
   ]
  },
  {
   "cell_type": "code",
   "execution_count": 2,
   "metadata": {},
   "outputs": [],
   "source": [
    "#df = pd.DataFrame(columns=[\"Título\", \"Número de páginas\"])\n",
    "#df.to_csv(\"file_libros\", index=False)"
   ]
  },
  {
   "cell_type": "markdown",
   "metadata": {},
   "source": [
    "## Multiretriver "
   ]
  },
  {
   "cell_type": "code",
   "execution_count": 7,
   "metadata": {},
   "outputs": [
    {
     "name": "stderr",
     "output_type": "stream",
     "text": [
      "INFO:langchain.retrievers.multi_query:Generated queries: ['Here are three different versions of the original question:', 'Que es la presencia de \"Yo Soy\" en contextos culturales y sociales?', '¿Qué características o elementos definen la presencia de \"Yo Soy\" en diferentes ámbitos, como la literatura, el arte o la política?', '¿Cómo se relaciona la presencia de \"Yo Soy\" con conceptos filosóficos como la identidad, la espiritualidad o la conciencia en textos y discursos variados?']\n"
     ]
    },
    {
     "data": {
      "text/plain": [
       "[Document(metadata={'page': 4.0, 'source': 'El libro de oro.pdf'}, page_content='5determinando cómo quieres que actúen para ti. \\nNadie puede preguntar: ¿Y cómo es que yo hago para calificar la energía? Todo el mundo conoce la \\ndiferencia entre lo destructi vo y lo constructivo en pensam iento, sentimiento y acción. \\nEl estudiante, al recibir esta in strucción, debe constantemente analizar el  motivo que lo impele para detectar \\nsi hay algún sentimiento de orgullo intelectual, de arroganc ia o de testarudez en la mente y cuerpo exterior. Si \\nhay algún deseo solapado de discutir o de probar que la in strucción está errada, en lugar de recibir la \\nBendición y la Verdad, el individuo ha cerrado incon scientemente la puerta, y por el momento ha anulado su \\nhabilidad de recibir el bien ofrecido. \\nTambién quiero recordarles a los discípulos, que no obs tante sus opiniones personales respecto a lo que \\ndebe ser o no la Verdad, yo he comprobado a través de muchas centurias estas instrucciones condensadas'),\n",
       " Document(metadata={'page': 34.0, 'source': 'El libro de oro.pdf'}, page_content='Por lo tanto, si alguien que tiene este hábito toma la posición determinada de que: «YO SOY la Presencia \\ndominante que prohibe  esta tontería y mantengo el control de mi Mente y mi Cuerno eternamente»,  lo \\ncontrolaran para siempre. \\nCuando se comienza a sentir el más pequeño síntom a, rápidamente se hace conciencia de que: «YO SOY \\nla Presencia dominante y yo Mantengo mi Conciencia aquí».  Uno tiene que comprender que al ordenar la \\nPresencia «YO SOY» se tiene el Control Absoluto del  cuerpo. Cuanto más se use esto, más rápidamente se \\nhará la manifestación. \\nPregunta: Si el Gran Sol Central es el Centro Corazón del  Infinito, ¿dónde está eso que es el Centro \\nCerebro?  \\nRespuesta: «En el estado puro, en el Infinito como en lo Finito, donde no hay imperfección, la actividad del \\ncerebro y del corazón se convierte en UNO, porque la f uerza motriz de toda actividad que sale es AMOR DEL'),\n",
       " Document(metadata={'page': 28.0, 'source': 'El libro de oro.pdf'}, page_content='toda ocasión, entonces sí sabes que tienes la Presencia dentro de ti. \\nEl próximo paso es determinar: «YO SOY la Presencia iluminadora, por  la cual nada que yo necesite saber \\npuede ser sustraído, ya que \"YO SOY\" la Sabiduría, \"Y O SOY\" el Poder revelador que me trae todo ante mí \\npara yo poder comprender y actuar de acuerdo».  \\nEs muy fácil una vez que se ha comprendido que «YO SOY la Única Inteligencia y la Única Presencia \\nactuando». el ver cómo tienes tú el cetro entre tus manos físicas y a través de es ta Presencia «YO SOY» \\npuedes obligar a que todo lo que tú necesites saber te  sea revelado. Y yo te aseguro que esto en ninguna \\nforma interfiere con el libre albedrío de ningún otro  individuo y que no hay error ni ningún daño en reclamar y \\npedir lo que es de uno propio, pues al hacer esto no se está interfiriendo con nadie. \\nSi en cualquier momento alguien hace por quitamos lo que nos pertenece, tenemos el derecho de ordenar'),\n",
       " Document(metadata={'page': 46.0, 'source': 'El libro de oro.pdf'}, page_content='Un día, en alguna parte, cada individualización de DIOS, el PADRE, tiene que encontrar el camino de \\nregreso hacia el Padre a través de su «Presencia YO SOY»,  cumpliendo con su ciclo, o ciclos, de \\nindividualizaciones en el uso de la actividad externa del Yo  externo. La tierra es la única esfera donde hay la \\ndensidad de la estructura atómica que experimentas. El reconocimiento consciente y el uso de la «Presencia \\nYO SOY»  que eres, gradualmente aumenta la acción vibratoria  de tu estructura atómica, desvistiendo y li-\\nberando la actividad electrónica que está escondida dentro  del átomo, permitiendo que te vuelvas un Ser Auto-\\nLuminoso. \\nDeseo que lodos los que puedan recibir esto o contactarlo algún día, comprendan muy bien que Yo no soy \\ny nunca fui un Ser Especial creado por Dios. distinto  al resto de la humanidad. Es verdad que había hecho \\nesfuerzos conscientes previos, y había alcanzado mucho antes de la encarnación donde gané la Victoria'),\n",
       " Document(metadata={'page': 71.0, 'source': 'El libro de oro.pdf'}, page_content='desees a través de tu descarga consciente.  \\nTu Poderosa Presencia «YO SOY» es la Fuente de la  Eterna Juventud y Belleza, la cual llamas a la \\nacción y expresión en tu forma humana.  \\nTu Poderosa Presencia «YO SOY» es la Resurrección y la Vida de tu cuerpo, de tu mundo de acción, en \\nesa Perfección que todo corazón humano tanto desea.'),\n",
       " Document(metadata={'page': 37.0, 'source': 'El libro de oro.pdf'}, page_content='«Lo que \"YO SOY\" significa».  \\n«Lo que \"YO SOY\" es para ustedes».  \\n«Lo que \"YO SOY\" es para ti».  \\n«Lo que con \"YO SOY\" puedes hacer».  \\nComprende esto y aguántate firmemente con determinación inflexible. \\nDentro de ti está la fuerza y el poder para hacer es to y si te mantienes en esta Poderosa Presencia «YO \\nSOY», gran asistencia te será dada. \\n \\nCAPITULO XVI  \\nDÍA DE ACCIÓN DE GRACIAS Rayo personal de Jesús y otros  rayos creados \\n \\nLA PRIMERA actividad es la de los Rayos divididos sali endo a la individualización, a la expresión visible. \\nCuando hablo de la expresión individual o visible, uso ese término por la actividad física, no es que ésta no sea \\nsiempre visible, porque lo es; pero para aquellos en la  forma física, hablo de ello como visibilidad. \\nAsí pues, verás la naturaleza de tu Ser como Rayo de Luz que eres, como la Cualidad Natural de la Vida \\nque tanto deseas. Se acerca rápidamente el día en el c ual muchos, muchísimos es tudiantes empezarán a usar'),\n",
       " Document(metadata={'page': 32.0, 'source': 'El libro de oro.pdf'}, page_content=\"propia conciencia, y al mismo tiempo intensifica esa cualidad en la persona a la cual ha sido mandada. \\nToma la posición eterna de que: « YO SOY lo que quiero Ser».  Debes usar la Presencia «YO SOY» \\nconscientemente siempre. Rarament e, hasta entre los estudiantes, se ha comprendido profundamente lo que \\nla Presencia «YO SOY» significa. Sólo ocasionalm ente ha surgido una verdadera comprensión del «YO SOY», \\nexcepto en los retiros de los Maestros Ascendidos. Jesús fue el primero en darle énfasis 'en el mundo externo. \\nInsisto seriamente que no le des ninguna considerac ión al elemento tiempo. La manifestación viene \\ninstantáneamente cuando le das a la Presencia «YO SOY» la libertad suficiente. Anda, aplica, sabe y deja que \\nla Presencia «YO SOY» se ocupe del elemento tiempo. \\nCuando haces un decreto de la Verdad y te aferras a él, debes recibir. Lo externo no tiene ningún poder por\"),\n",
       " Document(metadata={'page': 2.0, 'source': 'El libro de oro.pdf'}, page_content='cosas. El «YO SOY» es el poder de reconocer  la Perfección en cada uno y en todas partes. \\nCuando piensas en la expresión «YO SOY», significa que tú ya sabes  que tienes a Dios en Acción \\nexpresando en tu vida. No permitas que las falsas  apreciaciones y expresiones continúen gobernándote y \\nlimitándote. Rememora constantemente: «YO SOY», POR CONSIGUIENTE SOY DIOS EN ACCIÓN; \\n«YO SOY» VIDA, OPULENCIA, VERDAD, MANIFESTADOS YA. \\nAsí, recordándote esta Presencia Inv encible, mantienes la puerta abier ta para que ÉL (la Presencia «YO \\nSOY») teja en tu manifestación exterior toda Su Perfección. \\nPor Dios, no creas que puedes continuar usando dec retos errados y que de alguna manera se van a \\nenderezar y vas a manifestar cosas buenas, porque es im posible que eso suceda. En los hatos usan hierros \\npara marcar con fuego a las reses. ¡Yo quisiera poder marc arte con un hierro que te fijara en la conciencia'),\n",
       " Document(metadata={'page': 1.0, 'source': 'El libro de oro.pdf'}, page_content='toda naturalidad y en todas partes. \\nLa tendencia natural de la Vida es Amor, Paz, Belleza, Ar monía y Opulencia. A ella le es indiferente quien la \\nuse y continuamente está surgiendo para manifestar de más en más su perfección, y siempre con ese impulso \\nvivificador que le es inherente. \\n«YO SOY» \\n \\n«YO SOY» es la actividad de la Vida. ¡Qué extraño es  que los estudiantes más sinceros no siempre lleguen \\na captar el significado ve rdadero de esas dos palabras! \\nCuando tú dices «YO SOY», sintiéndolo, abres la f uente de la Vida Eterna para que corra sin obstáculos a \\nlo largo de su curso; en otras palabras, le abres la puerta ancha a su flujo natural. Cuando dices «Yo no Soy», \\ntiras la puerta en plena cara de esta Magna Energía. \\n«YO SOY» es la plena actividad de Dios. Te he colocado frente a frente infinidad de veces la Verdad de \\n«DIOS EN ACCIÓN». Quiero que comprendas que la  primera expresión de todo ser individualizado en'),\n",
       " Document(metadata={'page': 51.0, 'source': 'El libro de oro.pdf'}, page_content='extrae de allí y lo ancla plenamente en el Pl ano Espiritual y en la Presencia «YO SOY». \\nCuando las personas se mezclan con el plano psíquico . se encuentran que todo se distorsiona. No se \\nobtiene ninguna prueba definitiva de la Verdad y se hace la  confusión en la mente. Las entidades del plano \\npsíquico comienzan a profetizar y a veces a alabar . Es lo primero que hacen. Buscan ponemos bajo su \\ndominio. La salvación está en que radie se le puede oponer  a un Mensajero de la Luz. y todo el que trabaja en \\nla Presencia «YO SOY» es Mensajero de la Luz: es Radiación. Aquellos que se les oponen reciben la \\nreacción, ya que la Luz rechaza todo lo que no es igual a ella misma. \\nComienza siempre dando tu gran amor y tu adoraci ón a tu propia Presencia «YO SOY». Luego a las \\nEntidades de Luz que te puedan ayudar, y luego afir ma tu «YO SOY> en afirmaciones como «YO SOY la \\nVictoriosa Presencia en cualquier cosa que yo desee». «YO SOY la Presencia en toda orden que doy,')]"
      ]
     },
     "execution_count": 7,
     "metadata": {},
     "output_type": "execute_result"
    }
   ],
   "source": [
    "from langchain.retrievers.multi_query import MultiQueryRetriever\n",
    "from langchain_core.prompts import ChatPromptTemplate\n",
    "from langchain_ollama import ChatOllama\n",
    "\n",
    "\n",
    "PINECONE_API_KEY=\"d078b458-2829-4a0e-adb8-534011e5d430\"\n",
    "os.environ[\"PINECONE_API_KEY\"] =  PINECONE_API_KEY\n",
    "index_name = \"lanto\"\n",
    "\n",
    "embed = OllamaEmbeddings(model=\"mxbai-embed-large\")\n",
    "vector_store = PineconeVectorStore(embedding=embed, index_name = index_name)\n",
    "\n",
    "llm = ChatOllama(\n",
    "    model=\"llama3.1\",\n",
    "    temperature=0.2)\n",
    "\n",
    "\n",
    "retriever_from_llm = MultiQueryRetriever.from_llm(\n",
    "    retriever=vector_store.as_retriever(search_type=\"mmr\",\n",
    "    search_kwargs={\"k\": 5, \"fetch_k\": 10, \"lambda_mult\": 0.5}), llm=llm\n",
    ")\n",
    "\n",
    "\n",
    "# Set logging for the queries\n",
    "import logging\n",
    "\n",
    "logging.basicConfig()\n",
    "logging.getLogger(\"langchain.retrievers.multi_query\").setLevel(logging.INFO)\n",
    "\n",
    "# Realizar una consulta\n",
    "question = \"que es la presencia Yo Soy?\"\n",
    "unique_docs = retriever_from_llm.invoke(question)\n",
    "unique_docs\n"
   ]
  },
  {
   "cell_type": "code",
   "execution_count": 4,
   "metadata": {},
   "outputs": [],
   "source": [
    "from langchain.schema.runnable import RunnableLambda\n",
    "\n",
    "def remove_duplicate_documents(documents):\n",
    "    \"\"\"Elimina documentos duplicados basados en page_content.\"\"\"\n",
    "    seen_content = set()\n",
    "    unique_documents = []\n",
    "    for doc in documents:\n",
    "        if doc.page_content not in seen_content:\n",
    "            seen_content.add(doc.page_content)\n",
    "            unique_documents.append(doc)\n",
    "    return unique_documents\n",
    "\n",
    "\n",
    "# Crear un RunnableLambda a partir de la función remove_duplicate_documents\n",
    "remove_duplicates_runnable = RunnableLambda(lambda docs: remove_duplicate_documents(docs))\n"
   ]
  },
  {
   "cell_type": "code",
   "execution_count": 46,
   "metadata": {},
   "outputs": [
    {
     "data": {
      "text/plain": [
       "[Document(id='5f6b9134-460b-474d-bbc6-0604b0a495cb', metadata={'page': 4.0, 'source': 'El libro de oro.pdf'}, page_content='5determinando cómo quieres que actúen para ti. \\nNadie puede preguntar: ¿Y cómo es que yo hago para calificar la energía? Todo el mundo conoce la \\ndiferencia entre lo destructi vo y lo constructivo en pensam iento, sentimiento y acción. \\nEl estudiante, al recibir esta in strucción, debe constantemente analizar el  motivo que lo impele para detectar \\nsi hay algún sentimiento de orgullo intelectual, de arroganc ia o de testarudez en la mente y cuerpo exterior. Si \\nhay algún deseo solapado de discutir o de probar que la in strucción está errada, en lugar de recibir la \\nBendición y la Verdad, el individuo ha cerrado incon scientemente la puerta, y por el momento ha anulado su \\nhabilidad de recibir el bien ofrecido. \\nTambién quiero recordarles a los discípulos, que no obs tante sus opiniones personales respecto a lo que \\ndebe ser o no la Verdad, yo he comprobado a través de muchas centurias estas instrucciones condensadas'),\n",
       " Document(id='645024ed-e6a7-4a1c-a68a-02dc3a0b9d8b', metadata={'page': 28.0, 'source': 'El libro de oro.pdf'}, page_content='toda ocasión, entonces sí sabes que tienes la Presencia dentro de ti. \\nEl próximo paso es determinar: «YO SOY la Presencia iluminadora, por  la cual nada que yo necesite saber \\npuede ser sustraído, ya que \"YO SOY\" la Sabiduría, \"Y O SOY\" el Poder revelador que me trae todo ante mí \\npara yo poder comprender y actuar de acuerdo».  \\nEs muy fácil una vez que se ha comprendido que «YO SOY la Única Inteligencia y la Única Presencia \\nactuando». el ver cómo tienes tú el cetro entre tus manos físicas y a través de es ta Presencia «YO SOY» \\npuedes obligar a que todo lo que tú necesites saber te  sea revelado. Y yo te aseguro que esto en ninguna \\nforma interfiere con el libre albedrío de ningún otro  individuo y que no hay error ni ningún daño en reclamar y \\npedir lo que es de uno propio, pues al hacer esto no se está interfiriendo con nadie. \\nSi en cualquier momento alguien hace por quitamos lo que nos pertenece, tenemos el derecho de ordenar'),\n",
       " Document(id='cda5d9f0-6d2f-41fd-8a12-01524eae999e', metadata={'page': 71.0, 'source': 'El libro de oro.pdf'}, page_content='desees a través de tu descarga consciente.  \\nTu Poderosa Presencia «YO SOY» es la Fuente de la  Eterna Juventud y Belleza, la cual llamas a la \\nacción y expresión en tu forma humana.  \\nTu Poderosa Presencia «YO SOY» es la Resurrección y la Vida de tu cuerpo, de tu mundo de acción, en \\nesa Perfección que todo corazón humano tanto desea.'),\n",
       " Document(id='4b119d66-0da0-4108-b6df-5665879d7307', metadata={'page': 2.0, 'source': 'El libro de oro.pdf'}, page_content='cosas. El «YO SOY» es el poder de reconocer  la Perfección en cada uno y en todas partes. \\nCuando piensas en la expresión «YO SOY», significa que tú ya sabes  que tienes a Dios en Acción \\nexpresando en tu vida. No permitas que las falsas  apreciaciones y expresiones continúen gobernándote y \\nlimitándote. Rememora constantemente: «YO SOY», POR CONSIGUIENTE SOY DIOS EN ACCIÓN; \\n«YO SOY» VIDA, OPULENCIA, VERDAD, MANIFESTADOS YA. \\nAsí, recordándote esta Presencia Inv encible, mantienes la puerta abier ta para que ÉL (la Presencia «YO \\nSOY») teja en tu manifestación exterior toda Su Perfección. \\nPor Dios, no creas que puedes continuar usando dec retos errados y que de alguna manera se van a \\nenderezar y vas a manifestar cosas buenas, porque es im posible que eso suceda. En los hatos usan hierros \\npara marcar con fuego a las reses. ¡Yo quisiera poder marc arte con un hierro que te fijara en la conciencia'),\n",
       " Document(id='7a7e9ae2-b707-4e8e-a0a8-8d63685f7caa', metadata={'page': 24.0, 'source': 'El libro de oro.pdf'}, page_content='Otra afirmación: «YO SOY LA MEMORIA CONSCIENTE Y LA  COMPRENSIÓN EN EL USO DE ESTAS \\nCOSAS» . Cuando tú digas «LA PRESENCIA YO SOY ME VISTE CON MI TRAJE DE LUZ ETERNA Y \\nTRANSCENDENTE» , esto actúa realmente en ese momento. \\nEl lugar secreto del Altísimo es esta Presencia «YO SOY». Las cosas sagradas que te estoy revelando no \\ndebes ponerlas a un lado. Son como perlas. Procura conocer siempre: «YO SOY EL PERFECTO APLOMO \\nEN MI HABLAR Y EN MI ACTUACIÓN EN TODO MOMENTO PORQUE YO SOY LA PRESENCIA \\nPROTECTORA ». Entonces la guardia siempre está montada. \\nLa energía de Dios está siempre en espera para ser di rigida. Inherente en la expresión «YO SOY» está \\ncontenida la actividad autosostenida. Ahora sabes que el tiempo no existe; esto te trae a la acción instantánea \\ny tu precipitación pronto tendrá l ugar. Precediendo a la manifestación s entirás siempre una quietud absoluta. \\nAfirmaciones metafísicas para la per sona que está en pleno caso judicial:')]"
      ]
     },
     "execution_count": 46,
     "metadata": {},
     "output_type": "execute_result"
    }
   ],
   "source": [
    "remove_duplicate_documents(unique_docs)"
   ]
  },
  {
   "cell_type": "code",
   "execution_count": 39,
   "metadata": {},
   "outputs": [],
   "source": [
    "retriever_from_llm = MultiQueryRetriever.from_llm(\n",
    "    retriever=vector_store.as_retriever(), llm=llm\n",
    ")"
   ]
  },
  {
   "cell_type": "code",
   "execution_count": 47,
   "metadata": {},
   "outputs": [],
   "source": [
    "cadena = retriever_from_llm | remove_duplicates_runnable"
   ]
  },
  {
   "cell_type": "code",
   "execution_count": 48,
   "metadata": {},
   "outputs": [
    {
     "name": "stderr",
     "output_type": "stream",
     "text": [
      "INFO:langchain.retrievers.multi_query:Generated queries: ['Here are three different versions of the original question:', 'Que es la presencia de \"Yo Soy\" en el contexto cultural y social latinoamericano?', '¿Qué características y connotaciones tiene la frase \"Yo Soy\" en diferentes países y comunidades de América Latina?', '¿Cómo se relaciona la idea de identidad y pertenencia que subyace a la expresión \"Yo Soy\" con la experiencia histórica y política de los pueblos latinoamericanos?']\n"
     ]
    },
    {
     "data": {
      "text/plain": [
       "[Document(id='ee8547b9-a2d9-45c6-8923-d7ccf634b996', metadata={'page': 4.0, 'source': 'El libro de oro.pdf'}, page_content='5determinando cómo quieres que actúen para ti. \\nNadie puede preguntar: ¿Y cómo es que yo hago para calificar la energía? Todo el mundo conoce la \\ndiferencia entre lo destructi vo y lo constructivo en pensam iento, sentimiento y acción. \\nEl estudiante, al recibir esta in strucción, debe constantemente analizar el  motivo que lo impele para detectar \\nsi hay algún sentimiento de orgullo intelectual, de arroganc ia o de testarudez en la mente y cuerpo exterior. Si \\nhay algún deseo solapado de discutir o de probar que la in strucción está errada, en lugar de recibir la \\nBendición y la Verdad, el individuo ha cerrado incon scientemente la puerta, y por el momento ha anulado su \\nhabilidad de recibir el bien ofrecido. \\nTambién quiero recordarles a los discípulos, que no obs tante sus opiniones personales respecto a lo que \\ndebe ser o no la Verdad, yo he comprobado a través de muchas centurias estas instrucciones condensadas'),\n",
       " Document(id='7bc5240a-da96-4d0b-9549-d393ac9d29cc', metadata={'page': 28.0, 'source': 'El libro de oro.pdf'}, page_content='toda ocasión, entonces sí sabes que tienes la Presencia dentro de ti. \\nEl próximo paso es determinar: «YO SOY la Presencia iluminadora, por  la cual nada que yo necesite saber \\npuede ser sustraído, ya que \"YO SOY\" la Sabiduría, \"Y O SOY\" el Poder revelador que me trae todo ante mí \\npara yo poder comprender y actuar de acuerdo».  \\nEs muy fácil una vez que se ha comprendido que «YO SOY la Única Inteligencia y la Única Presencia \\nactuando». el ver cómo tienes tú el cetro entre tus manos físicas y a través de es ta Presencia «YO SOY» \\npuedes obligar a que todo lo que tú necesites saber te  sea revelado. Y yo te aseguro que esto en ninguna \\nforma interfiere con el libre albedrío de ningún otro  individuo y que no hay error ni ningún daño en reclamar y \\npedir lo que es de uno propio, pues al hacer esto no se está interfiriendo con nadie. \\nSi en cualquier momento alguien hace por quitamos lo que nos pertenece, tenemos el derecho de ordenar'),\n",
       " Document(id='75bbb7c7-cdd6-40bc-b94f-455bd640a46d', metadata={'page': 71.0, 'source': 'El libro de oro.pdf'}, page_content='desees a través de tu descarga consciente.  \\nTu Poderosa Presencia «YO SOY» es la Fuente de la  Eterna Juventud y Belleza, la cual llamas a la \\nacción y expresión en tu forma humana.  \\nTu Poderosa Presencia «YO SOY» es la Resurrección y la Vida de tu cuerpo, de tu mundo de acción, en \\nesa Perfección que todo corazón humano tanto desea.'),\n",
       " Document(id='beb9f456-2be6-467f-95c8-725556c8e241', metadata={'page': 32.0, 'source': 'El libro de oro.pdf'}, page_content=\"propia conciencia, y al mismo tiempo intensifica esa cualidad en la persona a la cual ha sido mandada. \\nToma la posición eterna de que: « YO SOY lo que quiero Ser».  Debes usar la Presencia «YO SOY» \\nconscientemente siempre. Rarament e, hasta entre los estudiantes, se ha comprendido profundamente lo que \\nla Presencia «YO SOY» significa. Sólo ocasionalm ente ha surgido una verdadera comprensión del «YO SOY», \\nexcepto en los retiros de los Maestros Ascendidos. Jesús fue el primero en darle énfasis 'en el mundo externo. \\nInsisto seriamente que no le des ninguna considerac ión al elemento tiempo. La manifestación viene \\ninstantáneamente cuando le das a la Presencia «YO SOY» la libertad suficiente. Anda, aplica, sabe y deja que \\nla Presencia «YO SOY» se ocupe del elemento tiempo. \\nCuando haces un decreto de la Verdad y te aferras a él, debes recibir. Lo externo no tiene ningún poder por\"),\n",
       " Document(id='eac75ee8-d9d8-4267-8fcb-b1d74f4aa384', metadata={'page': 2.0, 'source': 'El libro de oro.pdf'}, page_content='cosas. El «YO SOY» es el poder de reconocer  la Perfección en cada uno y en todas partes. \\nCuando piensas en la expresión «YO SOY», significa que tú ya sabes  que tienes a Dios en Acción \\nexpresando en tu vida. No permitas que las falsas  apreciaciones y expresiones continúen gobernándote y \\nlimitándote. Rememora constantemente: «YO SOY», POR CONSIGUIENTE SOY DIOS EN ACCIÓN; \\n«YO SOY» VIDA, OPULENCIA, VERDAD, MANIFESTADOS YA. \\nAsí, recordándote esta Presencia Inv encible, mantienes la puerta abier ta para que ÉL (la Presencia «YO \\nSOY») teja en tu manifestación exterior toda Su Perfección. \\nPor Dios, no creas que puedes continuar usando dec retos errados y que de alguna manera se van a \\nenderezar y vas a manifestar cosas buenas, porque es im posible que eso suceda. En los hatos usan hierros \\npara marcar con fuego a las reses. ¡Yo quisiera poder marc arte con un hierro que te fijara en la conciencia'),\n",
       " Document(id='c32b1cda-ac06-40ff-9ef5-99e98be7323f', metadata={'page': 1.0, 'source': 'El libro de oro.pdf'}, page_content='toda naturalidad y en todas partes. \\nLa tendencia natural de la Vida es Amor, Paz, Belleza, Ar monía y Opulencia. A ella le es indiferente quien la \\nuse y continuamente está surgiendo para manifestar de más en más su perfección, y siempre con ese impulso \\nvivificador que le es inherente. \\n«YO SOY» \\n \\n«YO SOY» es la actividad de la Vida. ¡Qué extraño es  que los estudiantes más sinceros no siempre lleguen \\na captar el significado ve rdadero de esas dos palabras! \\nCuando tú dices «YO SOY», sintiéndolo, abres la f uente de la Vida Eterna para que corra sin obstáculos a \\nlo largo de su curso; en otras palabras, le abres la puerta ancha a su flujo natural. Cuando dices «Yo no Soy», \\ntiras la puerta en plena cara de esta Magna Energía. \\n«YO SOY» es la plena actividad de Dios. Te he colocado frente a frente infinidad de veces la Verdad de \\n«DIOS EN ACCIÓN». Quiero que comprendas que la  primera expresión de todo ser individualizado en')]"
      ]
     },
     "execution_count": 48,
     "metadata": {},
     "output_type": "execute_result"
    }
   ],
   "source": [
    "cadena.invoke(question)"
   ]
  },
  {
   "cell_type": "code",
   "execution_count": 27,
   "metadata": {},
   "outputs": [],
   "source": [
    "# Ya teniendo el runable si podemos crear la funcion que retorne la cadena runable\n",
    "\n",
    "from langchain_pinecone import PineconeVectorStore\n",
    "from langchain_ollama import OllamaEmbeddings\n",
    "from langchain.schema.runnable import RunnableLambda\n",
    "from langchain.retrievers.multi_query import MultiQueryRetriever\n",
    "from langchain_ollama import ChatOllama\n",
    "import os\n",
    "\n",
    "PINECONE_API_KEY=\"d078b458-2829-4a0e-adb8-534011e5d430\"\n",
    "os.environ[\"PINECONE_API_KEY\"] =  PINECONE_API_KEY\n",
    "\n",
    "\n",
    "\n",
    "def remove_duplicate_documents(documents):\n",
    "    \"\"\"Elimina documentos duplicados basados en page_content.\"\"\"\n",
    "    seen_content = set()\n",
    "    unique_documents = []\n",
    "    for doc in documents:\n",
    "        if doc.page_content not in seen_content:\n",
    "            seen_content.add(doc.page_content)\n",
    "            unique_documents.append(doc)\n",
    "    return unique_documents\n",
    "\n",
    "\n",
    "\n",
    "def retriever_multi_query():\n",
    "\n",
    "    index_name = \"lanto\"\n",
    "\n",
    "    embed = OllamaEmbeddings(model=\"mxbai-embed-large\")\n",
    "    vector_store = PineconeVectorStore(embedding=embed, index_name = index_name)\n",
    "\n",
    "    llm = ChatOllama(model=\"llama3.1\",temperature=0.5)\n",
    "\n",
    "\n",
    "    retriever_from_llm = MultiQueryRetriever.from_llm(retriever=vector_store.as_retriever(search_type=\"mmr\",\n",
    "    search_kwargs={\"k\": 5, \"fetch_k\": 10, \"lambda_mult\": 0.5}), llm=llm)\n",
    "    remove_duplicates_runnable = RunnableLambda(lambda docs: remove_duplicate_documents(docs))\n",
    "\n",
    "    cadena = retriever_from_llm | remove_duplicates_runnable \n",
    "\n",
    "    return cadena "
   ]
  },
  {
   "cell_type": "code",
   "execution_count": 28,
   "metadata": {},
   "outputs": [
    {
     "data": {
      "text/plain": [
       "[Document(metadata={'page': 4.0, 'source': 'El libro de oro.pdf'}, page_content='5determinando cómo quieres que actúen para ti. \\nNadie puede preguntar: ¿Y cómo es que yo hago para calificar la energía? Todo el mundo conoce la \\ndiferencia entre lo destructi vo y lo constructivo en pensam iento, sentimiento y acción. \\nEl estudiante, al recibir esta in strucción, debe constantemente analizar el  motivo que lo impele para detectar \\nsi hay algún sentimiento de orgullo intelectual, de arroganc ia o de testarudez en la mente y cuerpo exterior. Si \\nhay algún deseo solapado de discutir o de probar que la in strucción está errada, en lugar de recibir la \\nBendición y la Verdad, el individuo ha cerrado incon scientemente la puerta, y por el momento ha anulado su \\nhabilidad de recibir el bien ofrecido. \\nTambién quiero recordarles a los discípulos, que no obs tante sus opiniones personales respecto a lo que \\ndebe ser o no la Verdad, yo he comprobado a través de muchas centurias estas instrucciones condensadas'),\n",
       " Document(metadata={'page': 34.0, 'source': 'El libro de oro.pdf'}, page_content='Por lo tanto, si alguien que tiene este hábito toma la posición determinada de que: «YO SOY la Presencia \\ndominante que prohibe  esta tontería y mantengo el control de mi Mente y mi Cuerno eternamente»,  lo \\ncontrolaran para siempre. \\nCuando se comienza a sentir el más pequeño síntom a, rápidamente se hace conciencia de que: «YO SOY \\nla Presencia dominante y yo Mantengo mi Conciencia aquí».  Uno tiene que comprender que al ordenar la \\nPresencia «YO SOY» se tiene el Control Absoluto del  cuerpo. Cuanto más se use esto, más rápidamente se \\nhará la manifestación. \\nPregunta: Si el Gran Sol Central es el Centro Corazón del  Infinito, ¿dónde está eso que es el Centro \\nCerebro?  \\nRespuesta: «En el estado puro, en el Infinito como en lo Finito, donde no hay imperfección, la actividad del \\ncerebro y del corazón se convierte en UNO, porque la f uerza motriz de toda actividad que sale es AMOR DEL'),\n",
       " Document(metadata={'page': 28.0, 'source': 'El libro de oro.pdf'}, page_content='toda ocasión, entonces sí sabes que tienes la Presencia dentro de ti. \\nEl próximo paso es determinar: «YO SOY la Presencia iluminadora, por  la cual nada que yo necesite saber \\npuede ser sustraído, ya que \"YO SOY\" la Sabiduría, \"Y O SOY\" el Poder revelador que me trae todo ante mí \\npara yo poder comprender y actuar de acuerdo».  \\nEs muy fácil una vez que se ha comprendido que «YO SOY la Única Inteligencia y la Única Presencia \\nactuando». el ver cómo tienes tú el cetro entre tus manos físicas y a través de es ta Presencia «YO SOY» \\npuedes obligar a que todo lo que tú necesites saber te  sea revelado. Y yo te aseguro que esto en ninguna \\nforma interfiere con el libre albedrío de ningún otro  individuo y que no hay error ni ningún daño en reclamar y \\npedir lo que es de uno propio, pues al hacer esto no se está interfiriendo con nadie. \\nSi en cualquier momento alguien hace por quitamos lo que nos pertenece, tenemos el derecho de ordenar'),\n",
       " Document(metadata={'page': 46.0, 'source': 'El libro de oro.pdf'}, page_content='Un día, en alguna parte, cada individualización de DIOS, el PADRE, tiene que encontrar el camino de \\nregreso hacia el Padre a través de su «Presencia YO SOY»,  cumpliendo con su ciclo, o ciclos, de \\nindividualizaciones en el uso de la actividad externa del Yo  externo. La tierra es la única esfera donde hay la \\ndensidad de la estructura atómica que experimentas. El reconocimiento consciente y el uso de la «Presencia \\nYO SOY»  que eres, gradualmente aumenta la acción vibratoria  de tu estructura atómica, desvistiendo y li-\\nberando la actividad electrónica que está escondida dentro  del átomo, permitiendo que te vuelvas un Ser Auto-\\nLuminoso. \\nDeseo que lodos los que puedan recibir esto o contactarlo algún día, comprendan muy bien que Yo no soy \\ny nunca fui un Ser Especial creado por Dios. distinto  al resto de la humanidad. Es verdad que había hecho \\nesfuerzos conscientes previos, y había alcanzado mucho antes de la encarnación donde gané la Victoria'),\n",
       " Document(metadata={'page': 22.0, 'source': 'El libro de oro.pdf'}, page_content='puede ser materializada la idea, por medio del pensami ento y sentimiento creativos, es cosa que se debe \\nmeditar. Esto disolverá la acción de: «¿podré yo?», y en su lugar dirá «YO PUEDO» y «YO SOY». A toda \\nafirmación y decreto agreguen que desean conservar la  memoria de cada experiencia y resultados. \\nSi los estudiantes se mantienen, de tiempo en tiempo re cibirán la iluminación que les dará toda la confianza \\nnecesaria. MANTÉNGANSE ASIDOS A UNA IDEA Y SEPAN QUE CUALQUIER CONOCIMIENTO QUE \\nNECESITEN LES VENDRÁ INSTANTÁNEAMENTE. \\nCUANDO PERMITES QUE TU ATENCIÓN SE FIJE EN ALGO, EN ESE MOMENTO LE ESTÁS DANDO \\nEL PODER DE ACTUAR EN TU MUNDO, ES DECIR,  QUE NO PUEDE EXISTIR UNA CUALIDAD O UNA \\nAPARIENCIA EN TU MUNDO SINO AQ UELLA QUE TÚ MISMO LE DES. \\n \\nCAPITULO IX \\n \\nUna de las cosas más importantes, aún para los estudiant es más sinceros, es la necesidad de darle tiempo a'),\n",
       " Document(metadata={'page': 44.0, 'source': 'El libro de oro.pdf'}, page_content='pero al no controlar sus pensamientos y sentimientos están recalificando esta Esenc ia Pura, sin saberlo, con \\nlas ideas externas en las cuales la atención se ha fijado. \\nFormar el hábito de estar Auto-consciente de que: « YO SOY la única Inteligencia actuando»,  en todo \\nmomento en que la mente esté ocupada, resguardará a la  Maravillosa y Poderosa Fuente de Vida contra el \\nefecto decolorante, Yo diría descalif icante, de los conceptos erróneos que yacen en la actividad externa de la \\nmente. Este es realmente el secreto simple  de toda la Perfección si uno logra comprenderlo. \\nEsta Vida Grandiosa viene para nuestro uso Pura y Perf ecta, pero por falta de comprensión, la mente \\nexterna la recalifica constantemente con conceptos di scordantes; y así los seres humanos cambian su Acción \\nPerfecta a lo que encuentran expresado en la actividad ex terna, como son la limitación y la discordia.'),\n",
       " Document(metadata={'page': 21.0, 'source': 'El libro de oro.pdf'}, page_content='22cuando alguien les ha desagradado en alguna forma y ellos se per miten volver a repasar el incidente, se están \\ngrabando y fabricando ese caso en sus conciencias pur as, ensuciándolas y atrayendo el resultado para que \\nvuelva una y otra vez a ocurrir. \\nPero yo quiero imprimir en las mentes de los estudi antes que es tonto dejarse afectar y perturbar por \\nactividades, reales o imaginarias, de la c onciencia exterior; ya que una vez que sepan «YO SOY LA ÚNICA \\nPRESENCIA TODOPODEROSA ACTUANDO EN MI  MENTE, MI CUERPO Y MI MUNDO» , ya no podrán ser \\nafectados ni perturbados por ninguna asociación del mundo exterior. Deben saber que están enteramente in-\\nmunes de las molestias y perturbaciones de la m ente de otros, no importa lo que traten de hacemos. \\nCUANDO EL INDIVIDUO SE DA CUENTA DE QUE SU PROPIO PENSAMIENTO Y SENTIMIENTO LE \\nPUEDE PRODUCIR TODO LO QUE ÉL NECESITE, SE SENTIRÁ LIBRE DEL DESEO DE LAS RIQUEZAS Y \\nTODO LO QUE EL MUNDO EXTERIOR PUEDA OFRECERLE.'),\n",
       " Document(metadata={'page': 46.0, 'source': 'El libro de oro.pdf'}, page_content='verdad: cada individuo que mande su pensamiento conscient e a Mí con el deseo de ser elevado por sobre las \\nlimitaciones de la tierra o de su propia creación, y viva  de acuerdo a ello, recibirá de mí toda la asistencia \\nposible para ser dada de acuerdo a los escalones de crec imiento de la conciencia que alcanzara de tiempo en \\ntiempo. \\nNo me entiendas mal, cuando me refiero a crecim iento. Estoy hablando de la humanidad en general. No me \\nrefiero a algunos que tienen un logro previo suficiente par a que en el uso presente y la completa aceptación de \\nsu «Presencia YO SOY»,  puedan hendir el velo de la creación humana y avanzar en el «Abrazo de la \\nResplandeciente Presencia YO SOY Ascendida»  en cualquier momento. Hay algunos en el grupo de \\nestudiantes que se ha formado, para quienes es pos ible hacer esto. Eso depende enteramente de ellos \\nmismos, de la calmada intensidad equilibrada por la cual se vuelven conscientes de su «Presencia YO SOY».'),\n",
       " Document(metadata={'page': 47.0, 'source': 'El libro de oro.pdf'}, page_content='visibilidad (en sus manos) estos tesoros almacenados. No piensen que me he perdido en ensueños fantásticos. Yo estoy trayendo esto a vues tra atención para beneficio y bendición propios. \\nDeseo que te recojas durante unos minutos y converses con tu «Presencia YO SOY»  diciéndole algo así: \\n«Gran Presencia Maestra que YO SOY, te Amo, te Adoro. Me  vuelvo a Ti, Plenitud de lodo Poder Creativo, \\ntodo Amor, toda Sabiduría y a través de este Poder que Eres, te doy todo Poder para que hagas visible en mis \\nmanos y uso la realización de cada deseo mío. Ya  no pretendo tener ningún poder, porque ahora te reclamo a \\nTi, la única Presencia Conquistadora de todo, en mi hogar, mi vida, mi mundo y mi experiencia. Reconozco Tu \\nSupremacía Completa y Tu Dominio sobre todas las cosas,  y mientras mi conciencia se fije en una realización, \\nTu Presencia Invencible y Tu Inteligencia asumirán el  comando, trayendo la manifestación a mi experiencia'),\n",
       " Document(metadata={'page': 15.0, 'source': 'El libro de oro.pdf'}, page_content='16No le des un pensamiento al mundo o a los individuos que no comprenden estas cosas. Continúa \\nregocijado en la presencia activa, visible, de lo que tú des ees manifestar y ver precipitado en tu vida y tu uso: \\n«YO SOY LA PRESENCIA ACTIVA Y VISIBLE DE  ESTO QUE YO DESEO, YA MANIFESTADO». \\nNuestro sentido común debe decirnos que a menos que nosotros esperemos, aceptemos y gocemos ya \\naquello que deseamos, ¿cómo lo vamos a lograr? El pobre e insignificante ser exterior se pavonea diciendo:  \\n«YO SOY DEMASIADO IMPORTANTE PARA PONER ATENCIÓN A SEMEJANTES CUENTOS DE HADAS» . \\nPues permíteme informarte que algún día los indi viduos que hablan así van a ponerse muy contentos con \\nestos cuentos de hadas y llenarán su mente con esas ideas para verlas surgir. \\nEn cada contacto con el mundo exterior de lo s negocios y cada vez que haya una condición negativa que \\naparente tocar tu mundo, instantáneam ente toma esta determinación:'),\n",
       " Document(metadata={'page': 69.0, 'source': 'El libro de oro.pdf'}, page_content='mente esta Poderosa Inteligencia y Energía Pura, que lo  externo o lo humano se mantiene lo suficientemente \\ndisuelto para que lo externo capte ve rdaderamente estas poderosas actividades. \\n¡Oh, qué lástima que la humanidad haya creído por tant o tiempo y muchos individuos muy sinceramente \\ntambién, que se puede curar el odio, la condenación y la  crítica con esas mismas cualidades! ¡Qué vano y \\ntrágico ha sido ese falso concepto! Créeme, ¡oh, hijo  de la Luz!, el odio nunca ha curado al odio y nunca lo \\ncurará. La condenación y la crítica nunca curaron su igual, porque como les hemos dicho tantas veces: «Aquello en lo que tu atención y visión se fijan, lo estás calificando y forzando dentro de tu mundo a residir y \\nactuar allí». \\nA pesar de lo que hemos dicho y dictado, muy poquito  se ha entendido sobre lo mucho que la personalidad \\nestá constantemente calificando la misma atmósfera y condiciones alrededor de ella con las cosas que no'),\n",
       " Document(metadata={'page': 71.0, 'source': 'El libro de oro.pdf'}, page_content='darte cuenta de esto, ¡qué grande será tu bendición y beneficio! \\nLa protección que ha sido dada a América y otras partes del mundo, durante los meses pasados, ha \\ntrascendido todo lo que Yo he conocido en mi experi encia. ¡Oh, si la humanidad pudiese comprender todo \\nesto, con qué agrado y gusto cooperaría ella a todo trance para mantenerlo! Así, esta Actividad Todopoderosa \\npodría ser aumentada. \\nSolamente podemos atraer tu atención a la Verdad, hacia la Realidad, como nosotros la conocemos. \\nCuando puedas aceptar esta Verdad plenamente y aplicarla  en tu mundo y actividad, obtendrás toda la prueba \\nnecesaria en tu propia experiencia para ayudarte a conoc er el Poder Pleno de la Verdad de la cual he hablado. \\nLa aceptación de esta Verdad, por parte de los estudiant es, me ayudara a cargar sus conciencias, y a llenar'),\n",
       " Document(metadata={'page': 60.0, 'source': 'El libro de oro.pdf'}, page_content='Te recomiendo que tengas el sentimiento de certeza al aceptar nuestra «Presencia» y la conciencia de la \\nhabilidad Para aplicar la Ley de la Presencia «YO SOY», dentro de ti mismo, porque está aumentando con \\ngran velocidad. \\nNo te desanimes en tu llamado para nuestra apariencia visible. Nuestro oído f unciona perfectamente bien, \\nte lo aseguro y hay en la llamada algo que necesitas. En  la llamada para la manifestación de una cosa hay una \\ncierta acción vibratoria que el estudiante necesita,  que no puede ser explicada, excepto cuando se ve desde la'),\n",
       " Document(metadata={'page': 47.0, 'source': 'El libro de oro.pdf'}, page_content='Tu Presencia Invencible y Tu Inteligencia asumirán el  comando, trayendo la manifestación a mi experiencia \\nrápidamente —hasta con la velocidad del pensamiento—. Yo  sé que Tú eres Jefe de tiempo, sitio y espacio. \\nPor lo tanto, Tú requieres solamente el «ahora» para atr aer a la actividad visible, toda Tu perfección. Yo me \\nmantengo absolutamente firme en la completa aceptaci ón de esto ahora y siempre, y no permitiré que mi \\nmente se aleje de ello porque al fin. Yo sé que somos Uno».  \\nAmado estudiante, podrás agregarle a esto cualquier cosa que necesites, y Yo te aseguro, que si puedes \\nvivir en esto, Yo me esforzaré en ayudarte y experim entarás la apertura de las compuertas de la Abundancia \\nde Dios. \\nLo más deseable e importante que cualquier individuo puede hacer es fijar su mente en la única necesidad \\npermanente y ésta es seguir adelante hasta llegar a la profundidad y firmeza de esta «Poderosa Presencia YO')]"
      ]
     },
     "execution_count": 28,
     "metadata": {},
     "output_type": "execute_result"
    }
   ],
   "source": [
    "pregunta = \"que es la presencia yo soy\"\n",
    "documentos = retriever_multi_query().invoke(pregunta)\n",
    "documentos\n",
    "\n"
   ]
  },
  {
   "cell_type": "code",
   "execution_count": 29,
   "metadata": {},
   "outputs": [],
   "source": [
    "# toca hacer una version 2 para pasarla al grader documentos, es decir a la funcion que califica si los documentos son relevantes "
   ]
  },
  {
   "cell_type": "code",
   "execution_count": 30,
   "metadata": {},
   "outputs": [],
   "source": [
    "\n",
    "def retriever_multi_query2(query):\n",
    "\n",
    "    index_name = \"lanto\"\n",
    "\n",
    "    embed = OllamaEmbeddings(model=\"mxbai-embed-large\")\n",
    "    vector_store = PineconeVectorStore(embedding=embed, index_name = index_name)\n",
    "\n",
    "    llm = ChatOllama(model=\"llama3.1\",temperature=0.5)\n",
    "\n",
    "\n",
    "    retriever_from_llm = MultiQueryRetriever.from_llm(retriever=vector_store.as_retriever(search_type=\"mmr\",\n",
    "    search_kwargs={\"k\": 5, \"fetch_k\": 10, \"lambda_mult\": 0.5}), llm=llm)\n",
    "    remove_duplicates_runnable = RunnableLambda(lambda docs: remove_duplicate_documents(docs))\n",
    "\n",
    "    cadena = retriever_from_llm | remove_duplicates_runnable | RunnableLambda(lambda docs: {\"docs\": docs, \"query\": query})\n",
    "\n",
    "    return cadena "
   ]
  },
  {
   "cell_type": "code",
   "execution_count": 31,
   "metadata": {},
   "outputs": [
    {
     "data": {
      "text/plain": [
       "{'docs': [Document(metadata={'page': 4.0, 'source': 'El libro de oro.pdf'}, page_content='5determinando cómo quieres que actúen para ti. \\nNadie puede preguntar: ¿Y cómo es que yo hago para calificar la energía? Todo el mundo conoce la \\ndiferencia entre lo destructi vo y lo constructivo en pensam iento, sentimiento y acción. \\nEl estudiante, al recibir esta in strucción, debe constantemente analizar el  motivo que lo impele para detectar \\nsi hay algún sentimiento de orgullo intelectual, de arroganc ia o de testarudez en la mente y cuerpo exterior. Si \\nhay algún deseo solapado de discutir o de probar que la in strucción está errada, en lugar de recibir la \\nBendición y la Verdad, el individuo ha cerrado incon scientemente la puerta, y por el momento ha anulado su \\nhabilidad de recibir el bien ofrecido. \\nTambién quiero recordarles a los discípulos, que no obs tante sus opiniones personales respecto a lo que \\ndebe ser o no la Verdad, yo he comprobado a través de muchas centurias estas instrucciones condensadas'),\n",
       "  Document(metadata={'page': 34.0, 'source': 'El libro de oro.pdf'}, page_content='Por lo tanto, si alguien que tiene este hábito toma la posición determinada de que: «YO SOY la Presencia \\ndominante que prohibe  esta tontería y mantengo el control de mi Mente y mi Cuerno eternamente»,  lo \\ncontrolaran para siempre. \\nCuando se comienza a sentir el más pequeño síntom a, rápidamente se hace conciencia de que: «YO SOY \\nla Presencia dominante y yo Mantengo mi Conciencia aquí».  Uno tiene que comprender que al ordenar la \\nPresencia «YO SOY» se tiene el Control Absoluto del  cuerpo. Cuanto más se use esto, más rápidamente se \\nhará la manifestación. \\nPregunta: Si el Gran Sol Central es el Centro Corazón del  Infinito, ¿dónde está eso que es el Centro \\nCerebro?  \\nRespuesta: «En el estado puro, en el Infinito como en lo Finito, donde no hay imperfección, la actividad del \\ncerebro y del corazón se convierte en UNO, porque la f uerza motriz de toda actividad que sale es AMOR DEL'),\n",
       "  Document(metadata={'page': 28.0, 'source': 'El libro de oro.pdf'}, page_content='toda ocasión, entonces sí sabes que tienes la Presencia dentro de ti. \\nEl próximo paso es determinar: «YO SOY la Presencia iluminadora, por  la cual nada que yo necesite saber \\npuede ser sustraído, ya que \"YO SOY\" la Sabiduría, \"Y O SOY\" el Poder revelador que me trae todo ante mí \\npara yo poder comprender y actuar de acuerdo».  \\nEs muy fácil una vez que se ha comprendido que «YO SOY la Única Inteligencia y la Única Presencia \\nactuando». el ver cómo tienes tú el cetro entre tus manos físicas y a través de es ta Presencia «YO SOY» \\npuedes obligar a que todo lo que tú necesites saber te  sea revelado. Y yo te aseguro que esto en ninguna \\nforma interfiere con el libre albedrío de ningún otro  individuo y que no hay error ni ningún daño en reclamar y \\npedir lo que es de uno propio, pues al hacer esto no se está interfiriendo con nadie. \\nSi en cualquier momento alguien hace por quitamos lo que nos pertenece, tenemos el derecho de ordenar'),\n",
       "  Document(metadata={'page': 46.0, 'source': 'El libro de oro.pdf'}, page_content='Un día, en alguna parte, cada individualización de DIOS, el PADRE, tiene que encontrar el camino de \\nregreso hacia el Padre a través de su «Presencia YO SOY»,  cumpliendo con su ciclo, o ciclos, de \\nindividualizaciones en el uso de la actividad externa del Yo  externo. La tierra es la única esfera donde hay la \\ndensidad de la estructura atómica que experimentas. El reconocimiento consciente y el uso de la «Presencia \\nYO SOY»  que eres, gradualmente aumenta la acción vibratoria  de tu estructura atómica, desvistiendo y li-\\nberando la actividad electrónica que está escondida dentro  del átomo, permitiendo que te vuelvas un Ser Auto-\\nLuminoso. \\nDeseo que lodos los que puedan recibir esto o contactarlo algún día, comprendan muy bien que Yo no soy \\ny nunca fui un Ser Especial creado por Dios. distinto  al resto de la humanidad. Es verdad que había hecho \\nesfuerzos conscientes previos, y había alcanzado mucho antes de la encarnación donde gané la Victoria'),\n",
       "  Document(metadata={'page': 47.0, 'source': 'El libro de oro.pdf'}, page_content='Tu Presencia Invencible y Tu Inteligencia asumirán el  comando, trayendo la manifestación a mi experiencia \\nrápidamente —hasta con la velocidad del pensamiento—. Yo  sé que Tú eres Jefe de tiempo, sitio y espacio. \\nPor lo tanto, Tú requieres solamente el «ahora» para atr aer a la actividad visible, toda Tu perfección. Yo me \\nmantengo absolutamente firme en la completa aceptaci ón de esto ahora y siempre, y no permitiré que mi \\nmente se aleje de ello porque al fin. Yo sé que somos Uno».  \\nAmado estudiante, podrás agregarle a esto cualquier cosa que necesites, y Yo te aseguro, que si puedes \\nvivir en esto, Yo me esforzaré en ayudarte y experim entarás la apertura de las compuertas de la Abundancia \\nde Dios. \\nLo más deseable e importante que cualquier individuo puede hacer es fijar su mente en la única necesidad \\npermanente y ésta es seguir adelante hasta llegar a la profundidad y firmeza de esta «Poderosa Presencia YO'),\n",
       "  Document(metadata={'page': 23.0, 'source': 'El libro de oro.pdf'}, page_content='intensificando en vez de borrar la actividad. En el trabajo s ilencioso lograrías tu objetivo con absoluta certeza. \\nNadie puede conocer lo que la Presencia «YO SOY» de un tercero desea hacer. Estas son verdades vitales'),\n",
       "  Document(metadata={'page': 13.0, 'source': 'El libro de oro.pdf'}, page_content='exterior, y te llevas esta conciencia cuando entres a otros planos, es una presencia sostenedora increíble. \\nHay un momento en la experiencia de nuestra vida en la  cual tenemos necesidad del uso y reconocimiento \\nconsciente de la frase: «YO SOY la Presencia de Dios en Acción». Cuando tú tengas esa conciencia y la lleves \\nvoluntariamente a través del velo del sueño, tu  alma fuera del cuerpo actúa con poderes ilimitados. \\nSuponiendo que en el estado de vigilia tengas neces idad de algo, antes de dormirte puedes muy bien \\nexpresar lo siguiente: A TRAVÉS DEL MAGNO PODER, E INTELI GENCIA QUE \"YO SOY\", MIENTRAS MI \\nCUERPO DUERME, HAGO EL CONTACTO NECES ARIO QUE ME CUMPLIRÁ ABUNDANTEMENTE ESTE \\nREQUERIMIENTO, NO IMPORTA CUÁL SEA. \\nDebes conocer que esta actividad autosostenida no puede fallar en absoluto, y que es una forma grandiosa'),\n",
       "  Document(metadata={'page': 22.0, 'source': 'El libro de oro.pdf'}, page_content='puede ser materializada la idea, por medio del pensami ento y sentimiento creativos, es cosa que se debe \\nmeditar. Esto disolverá la acción de: «¿podré yo?», y en su lugar dirá «YO PUEDO» y «YO SOY». A toda \\nafirmación y decreto agreguen que desean conservar la  memoria de cada experiencia y resultados. \\nSi los estudiantes se mantienen, de tiempo en tiempo re cibirán la iluminación que les dará toda la confianza \\nnecesaria. MANTÉNGANSE ASIDOS A UNA IDEA Y SEPAN QUE CUALQUIER CONOCIMIENTO QUE \\nNECESITEN LES VENDRÁ INSTANTÁNEAMENTE. \\nCUANDO PERMITES QUE TU ATENCIÓN SE FIJE EN ALGO, EN ESE MOMENTO LE ESTÁS DANDO \\nEL PODER DE ACTUAR EN TU MUNDO, ES DECIR,  QUE NO PUEDE EXISTIR UNA CUALIDAD O UNA \\nAPARIENCIA EN TU MUNDO SINO AQ UELLA QUE TÚ MISMO LE DES. \\n \\nCAPITULO IX \\n \\nUna de las cosas más importantes, aún para los estudiant es más sinceros, es la necesidad de darle tiempo a'),\n",
       "  Document(metadata={'page': 35.0, 'source': 'El libro de oro.pdf'}, page_content='inmiscuirme en el libre albedrío del individuo. Los documentos que citaré están en nuestra posesión y cubren \\nestos últimos cien años. \\nDeseo hablarte hoy sobre el engaño de la astrología. Ningún ser viviente puede prestar atención a la astrología y, al mismo tiempo, entrar en la Presencia del \\n«YO SOY» y quedarse ahí. Por debajo del uso present e de la astrología, está el deseo humano y la \\noportunidad de justificar y gratificar los deseos exte rnos. Déjame exponerte un hecho aterrador, que está en \\nnuestros archivos: «No hay ninguna cosa o fase de es tudio que haya causado más fracaso y más .crímenes \\nindirectos, que el engaño presente de la astrología». \\nEn años recientes hubo en la ciudad de Chicago un estudiante espléndido de Metafísica que, aceptando \\nconscientemente el engaño de su horóscopo, fue impulsado a suicidarse. \\nLo que la humanidad necesita más, y los estudiantes por enc ima de todo, es la roca firme y la conciencia de'),\n",
       "  Document(metadata={'page': 49.0, 'source': 'El libro de oro.pdf'}, page_content='fijaran sus mentes firmemente en que «ninguna cosa externa tiene poder alguno en sus experiencias, excepto \\nel que ellos mismos le dan»  ellos comenzarían a salir de las limitaciones a las que se han sometido. \\nDéjame decirte ahora que casi todo el poder dado a las cosas externas es concedido inconscientemente y \\nsin que muchos estudiantes se hayan dado cuenta de ello. Dirigirse hacia esta Gran Presencia de Dios dentro \\nde ti y darle todo el poder para hacer las cosas que nec esitas y deseas hacer, hará que éstas se manifiesten \\ncon una velocidad y una certeza mucho mayor que la de cualquier agente medicinal. Algunos aplicarán esta \\nidea con una tenacidad tremenda, mientras que otros neces itarán más esfuerzo, pero realmente vale la pena \\nhacerlo. \\nRecuerda que la «Presencia YO SOY»  sabe todas las cosas por toda la  eternidad, en todas las maneras \\npasadas, presentes y futuras sin lími te. Si pensaras en esta Gran Presenc ia, contemplarías y reconocerías'),\n",
       "  Document(metadata={'page': 46.0, 'source': 'El libro de oro.pdf'}, page_content='verdad: cada individuo que mande su pensamiento conscient e a Mí con el deseo de ser elevado por sobre las \\nlimitaciones de la tierra o de su propia creación, y viva  de acuerdo a ello, recibirá de mí toda la asistencia \\nposible para ser dada de acuerdo a los escalones de crec imiento de la conciencia que alcanzara de tiempo en \\ntiempo. \\nNo me entiendas mal, cuando me refiero a crecim iento. Estoy hablando de la humanidad en general. No me \\nrefiero a algunos que tienen un logro previo suficiente par a que en el uso presente y la completa aceptación de \\nsu «Presencia YO SOY»,  puedan hendir el velo de la creación humana y avanzar en el «Abrazo de la \\nResplandeciente Presencia YO SOY Ascendida»  en cualquier momento. Hay algunos en el grupo de \\nestudiantes que se ha formado, para quienes es pos ible hacer esto. Eso depende enteramente de ellos \\nmismos, de la calmada intensidad equilibrada por la cual se vuelven conscientes de su «Presencia YO SOY».'),\n",
       "  Document(metadata={'page': 51.0, 'source': 'El libro de oro.pdf'}, page_content='sugerencia ajena. Tú tienes tu Presencia «YO SO Y» que es Omni-inteligente, de manera que hazte \\nimpermeable a toda sugestión buena o mala. \\nAlgún día consagraré una plática entera al sabio m anejo de las cosas psíquicas (astrales, lunares, \\npsiquismo, etc.). No existe una persona en diez mil que comprenda que el despertar de la clarividencia no es \\nespiritual. Cuando se comienza a ver en el plano psíqui co, sólo se está usando la vista física, pero algo \\nexpandida. Eso es todo. \\nEn el plano psíquico también se reciben sugerencias que ofrecen un mínimo de la verdad, lo suficiente para \\ndespertar el interés del sujeto hasta que las fuerzas psíquicas (dañinas) se apoderen de él. Esto puede ocurrir por lo fascinante del fenómeno, pero sólo hay que enfocar la atención en la Presencia «YO SOY» y ésta lo \\nextrae de allí y lo ancla plenamente en el Pl ano Espiritual y en la Presencia «YO SOY».'),\n",
       "  Document(metadata={'page': 19.0, 'source': 'El libro de oro.pdf'}, page_content='buscan con tanto ahínco continúan pasando de largo ante la llave de esa felicidad. \\nLA LLAVE SIMPLE DE LA DICHA PERFECTA Y EL PODER INHERENTE QUE LA MANTIENE \\nCONSTANTE ES EL AUTOCONTROL Y LA AUTOCORRECCIÓN. PERO ESTO ES FACILÍSIMO DE LOGRAR UNA VEZ QUE SE APRENDE LA VERDAD DE QUE UNO MISMO ES LA PRESENCIA «YO SOY» \\nY LA INTELIGENCIA QUE CONTROLA Y ORDENA TODAS LAS COSAS. \\nAlrededor de cada individuo hay todo un mundo de pensami entos creados por él mismo. Dentro de este \\nmundo mental está la semilla, la Presencia Divina, el  «YO SOY», que es la única Presencia que actúa en el \\nUniverso y la cual dirige toda energía. Esta energía puede ser intensificada más allá de todos los límites por \\nmedio de la actividad consciente del individuo. \\nLa Presencia Divina Interior puede ser comparada con la semilla de un durazno. El mundo de \\npensamientos que la envuelve semeja la pulpa. La pul pa representa no sólo el mundo mental creado por el')],\n",
       " 'query': 'que es la presencia yo soy'}"
      ]
     },
     "execution_count": 31,
     "metadata": {},
     "output_type": "execute_result"
    }
   ],
   "source": [
    "retriever_multi_query2(pregunta).invoke(pregunta)"
   ]
  },
  {
   "cell_type": "code",
   "execution_count": 7,
   "metadata": {},
   "outputs": [
    {
     "name": "stdout",
     "output_type": "stream",
     "text": [
      "content='La respuesta es: 1' additional_kwargs={} response_metadata={'model': 'llama3.1', 'created_at': '2024-10-03T12:54:15.38396347Z', 'message': {'role': 'assistant', 'content': ''}, 'done_reason': 'stop', 'done': True, 'total_duration': 2037109039, 'load_duration': 1741355345, 'prompt_eval_count': 138, 'prompt_eval_duration': 66769000, 'eval_count': 7, 'eval_duration': 103844000} id='run-2d5be3d1-8fc3-4340-873a-3f41b9433f32-0' usage_metadata={'input_tokens': 138, 'output_tokens': 7, 'total_tokens': 145}\n",
      "genial es relevante\n"
     ]
    }
   ],
   "source": [
    "from langchain_core.prompts import ChatPromptTemplate\n",
    "from langchain_core.output_parsers import StrOutputParser\n",
    "from langchain import hub\n",
    "\n",
    "\n",
    "# Prompt\n",
    "#grade_prompt = hub.pull(\"efriis/self-rag-retrieval-grader\")\n",
    "\n",
    "prompt = ChatPromptTemplate.from_messages([\n",
    "    (\"system\", \"\"\"Eres un evaluador que determina la relevancia de un documento recuperado respecto a una pregunta del usuario. No se requiere una prueba estricta. El objetivo es filtrar recuperaciones erróneas. Si el documento contiene palabras clave o significado semántico relacionado con la pregunta del usuario, califícalo como relevante.\n",
    "\n",
    "Proporciona una puntuación binaria ('0' o '1') para indicar si el documento es relevante para la pregunta.\"\"\"),\n",
    "    (\"human\", \"Documento recuperado: {document}\\nPregunta del usuario: {question}\"),\n",
    "])\n",
    "\n",
    "llm = ChatOllama(model=\"llama3.1\",temperature=0.0)\n",
    "\n",
    "cadena2 = prompt | llm \n",
    "\n",
    "filtro = cadena2.invoke({\"question\": \"el documento es relevante\", \"document\": \"este documento es relevante\"})\n",
    "\n",
    "valor = filtro\n",
    "\n",
    "print(valor)\n",
    "\n",
    "if \"1\" in valor.content:\n",
    "    print(\"genial es relevante\")\n",
    "\n"
   ]
  },
  {
   "cell_type": "code",
   "execution_count": 12,
   "metadata": {},
   "outputs": [
    {
     "data": {
      "text/plain": [
       "[Document(metadata={'page': 31.0, 'source': 'El libro de oro.pdf'}, page_content='muchísimo su propia evolución y bajo ningún aspecto es admisible. \\nCada estudiante debe comprender que su única incumbenc ia es la de armonizar, apurar y expandir su \\npropia mente y su mundo. Una vez que los estudiant es comprendan que la única demanda imperativa de la \\n«Gran Ley de su Ser»  es la armonía de su mente y sentimientos , la Perfección se manifestará rápidamente. \\nSi esto no es mantenido, no podrán pasar de cierto grado de progreso. \\nTan pronto como los estudiantes se den cuenta de es to, y comiencen a usar la Presencia «YO SOY» \\nordenando la armonía y el silencio de su actividad exte rna se darán cuenta que podrán ver, sentir y ser la \\nPerfección que han deseado tanto. Cuando los estudiantes  y amigos tienen un profundo y sincero Amor para \\ncada cual, ese Amor es la más grande bendición y el poder más estimulante. Esta es una manera de que el \\nestudiante se examine cons tantemente, para evaluar el poder que está actuando en él.'),\n",
       " Document(metadata={'page': 35.0, 'source': 'El libro de oro.pdf'}, page_content='36CAPITULO XV \\n \\nDE LA Gloriosa Plenitud de la Luz y de la Substanc ia Omnipresente de Dios sale la abundancia de todas las \\ncosas. \\nEl estudiante que es lo suficientemente fuer te y firme para sostenerse sólo con su «Poderosa Presencia YO \\nSOY», que nunca divide la Presencia y el Poder de Dios  ni durante un solo instante, se encontrará \\nascendiendo constantemente hacia esa Poderosa Perfección,  por siempre libre de todo sentido o \\nreconocimiento de cualquier limitación. \\nEl estudiante que puede mantenerse indiviso dentro de esta Poderosa Presencia,  es muy afortunado. Para \\nbeneficio de algunos de los estudiantes que son muy sinc eros y, sin embargo, están dejando, sin saberlo, que \\nsu atención se aparte de esta Presencia Integra,  deseo exponer algunos hechos sin ninguna intención de \\ninmiscuirme en el libre albedrío del individuo. Los documentos que citaré están en nuestra posesión y cubren \\nestos últimos cien años.'),\n",
       " Document(metadata={'page': 28.0, 'source': 'El libro de oro.pdf'}, page_content='toda ocasión, entonces sí sabes que tienes la Presencia dentro de ti. \\nEl próximo paso es determinar: «YO SOY la Presencia iluminadora, por  la cual nada que yo necesite saber \\npuede ser sustraído, ya que \"YO SOY\" la Sabiduría, \"Y O SOY\" el Poder revelador que me trae todo ante mí \\npara yo poder comprender y actuar de acuerdo».  \\nEs muy fácil una vez que se ha comprendido que «YO SOY la Única Inteligencia y la Única Presencia \\nactuando». el ver cómo tienes tú el cetro entre tus manos físicas y a través de es ta Presencia «YO SOY» \\npuedes obligar a que todo lo que tú necesites saber te  sea revelado. Y yo te aseguro que esto en ninguna \\nforma interfiere con el libre albedrío de ningún otro  individuo y que no hay error ni ningún daño en reclamar y \\npedir lo que es de uno propio, pues al hacer esto no se está interfiriendo con nadie. \\nSi en cualquier momento alguien hace por quitamos lo que nos pertenece, tenemos el derecho de ordenar'),\n",
       " Document(metadata={'page': 26.0, 'source': 'El libro de oro.pdf'}, page_content='hacer o decir lo que haría conocer nuestr a Presencia, por lo cual el estudiante se apoyaría en nosotros. Por lo \\ndemás, el estudiante no tiene nada que temer, y debe saber que le damos siempre toda la asistencia posible, y \\nde acuerdo al grado de adelanto que va logrando. \\nLa Presencia «YO SOY», la Hueste Ascendida y el M aestro Jesús son todos una misma cosa. A través del \\nuso y el reconocimiento de la Presencia «YO SO Y», yo te aseguro que puedes positivamente producir \\ncualquier cualidad que desees manifest ar en la Conciencia exterior.  No tienes sino que ensayarlo. \\nLo que todos necesitan recordarle constantemente a la  conciencia exterior es que cuando se dice «YO \\nSOY» esto a aquello, se está poniendo a Dios en Acción, y que esto es la propia vida individualizada, la Vida \\ndel Universo, la Energía del Universo, la Inte ligencia en el Corazón del Universo gobernándolo todo,'),\n",
       " Document(metadata={'page': 51.0, 'source': 'El libro de oro.pdf'}, page_content='extrae de allí y lo ancla plenamente en el Pl ano Espiritual y en la Presencia «YO SOY». \\nCuando las personas se mezclan con el plano psíquico . se encuentran que todo se distorsiona. No se \\nobtiene ninguna prueba definitiva de la Verdad y se hace la  confusión en la mente. Las entidades del plano \\npsíquico comienzan a profetizar y a veces a alabar . Es lo primero que hacen. Buscan ponemos bajo su \\ndominio. La salvación está en que radie se le puede oponer  a un Mensajero de la Luz. y todo el que trabaja en \\nla Presencia «YO SOY» es Mensajero de la Luz: es Radiación. Aquellos que se les oponen reciben la \\nreacción, ya que la Luz rechaza todo lo que no es igual a ella misma. \\nComienza siempre dando tu gran amor y tu adoraci ón a tu propia Presencia «YO SOY». Luego a las \\nEntidades de Luz que te puedan ayudar, y luego afir ma tu «YO SOY> en afirmaciones como «YO SOY la \\nVictoriosa Presencia en cualquier cosa que yo desee». «YO SOY la Presencia en toda orden que doy,'),\n",
       " Document(metadata={'page': 46.0, 'source': 'El libro de oro.pdf'}, page_content='mismos, de la calmada intensidad equilibrada por la cual se vuelven conscientes de su «Presencia YO SOY».  \\nTe traigo estas grandes nuevas, porque yo la s comprobé en mi experiencia personal. \\nAntes de que decidiera completamente la manera en que Yo daría el ejemplo a la humanidad, comencé de \\nrepente a usar la afirmación que me vino de un impulso interno: «YO SOY la Resurrección y la Vida».  Dos días \\ndespués que comencé a usar esa afirmación con gran r egocijo, vi lo que se debía hacer, y deseo asegurarte \\nque fue el uso consciente de la Poderosa Afirmación: «YO SOY la Resurrección y la Vida»,  que me dio el \\npoder para hacer la ascensión en presencia de tantos y r egistrar en los archivos etéricos ese ejemplo que se \\nmantendrá presente eternament e para toda la humanidad. \\nDesafortunadamente, el velo de la idea ortodoxa cubrió  las mentes de la gente, impidiendo la comprensión'),\n",
       " Document(metadata={'page': 33.0, 'source': 'El libro de oro.pdf'}, page_content='creyentes, pero es vital que ellos lo comprendan.) \\nAquí hay algo que quiero recalcar a los estudiantes  seriamente. Hay innumerables medios útiles de \\nasistencia para el estudiante serio y sincero, muchos  de los cuales son completamente desconocidos para él, \\npero, no obstante, los aprovechará si su deseo por la Luz es sincero. \\nDespreocuparse de todo y centrarse alegre y determinadamente en esa «Poderosa Presencia Única que \\nYO SOY», nos proporciona un continuo flujo de victorias. Ni ngún esfuerzo hecho en el Nombre y Presencia \\nque «YO SOY» puede fallar nunca, pero debe seguirse avanz ando de una victoria a otra, hasta alcanzar y \\npoder usar el Cetro de su Dominio Completo.')]"
      ]
     },
     "execution_count": 12,
     "metadata": {},
     "output_type": "execute_result"
    }
   ],
   "source": [
    "def filtrado_relevante(docs, query):\n",
    "    \n",
    "    doc_filtrados = []\n",
    "   \n",
    "    prompt = ChatPromptTemplate.from_messages([\n",
    "        (\"system\", \"\"\"Eres un evaluador que determina la relevancia de un documento recuperado respecto a una pregunta del usuario. No se requiere una prueba estricta. El objetivo es filtrar recuperaciones erróneas. Si el documento contiene palabras clave o significado semántico relacionado con la pregunta del usuario, califícalo como relevante.\n",
    "\n",
    "        Proporciona una puntuación binaria ('0' o '1') para indicar si el documento es relevante para la pregunta.\"\"\"),\n",
    "        (\"human\", \"Documento recuperado: {document}\\nPregunta del usuario: {question}\"),\n",
    "        ])\n",
    "   \n",
    "    llm = ChatOllama(model=\"llama3.1\",temperature=0.0)\n",
    "\n",
    "    cadena2 = prompt | llm \n",
    "\n",
    "    for doc in docs:\n",
    "    \n",
    "      filtro = cadena2.invoke({\"question\": query, \"document\": doc})\n",
    "\n",
    "      if \"1\" in filtro.content:\n",
    "        doc_filtrados.append(doc)\n",
    "\n",
    "    return doc_filtrados\n",
    "      \n",
    "\n",
    "\n",
    "filtrado_relevante(documentos, pregunta)"
   ]
  },
  {
   "cell_type": "code",
   "execution_count": 17,
   "metadata": {},
   "outputs": [
    {
     "data": {
      "text/plain": [
       "[Document(metadata={'page': 4.0, 'source': 'El libro de oro.pdf'}, page_content='5determinando cómo quieres que actúen para ti. \\nNadie puede preguntar: ¿Y cómo es que yo hago para calificar la energía? Todo el mundo conoce la \\ndiferencia entre lo destructi vo y lo constructivo en pensam iento, sentimiento y acción. \\nEl estudiante, al recibir esta in strucción, debe constantemente analizar el  motivo que lo impele para detectar \\nsi hay algún sentimiento de orgullo intelectual, de arroganc ia o de testarudez en la mente y cuerpo exterior. Si \\nhay algún deseo solapado de discutir o de probar que la in strucción está errada, en lugar de recibir la \\nBendición y la Verdad, el individuo ha cerrado incon scientemente la puerta, y por el momento ha anulado su \\nhabilidad de recibir el bien ofrecido. \\nTambién quiero recordarles a los discípulos, que no obs tante sus opiniones personales respecto a lo que \\ndebe ser o no la Verdad, yo he comprobado a través de muchas centurias estas instrucciones condensadas'),\n",
       " Document(metadata={'page': 34.0, 'source': 'El libro de oro.pdf'}, page_content='Por lo tanto, si alguien que tiene este hábito toma la posición determinada de que: «YO SOY la Presencia \\ndominante que prohibe  esta tontería y mantengo el control de mi Mente y mi Cuerno eternamente»,  lo \\ncontrolaran para siempre. \\nCuando se comienza a sentir el más pequeño síntom a, rápidamente se hace conciencia de que: «YO SOY \\nla Presencia dominante y yo Mantengo mi Conciencia aquí».  Uno tiene que comprender que al ordenar la \\nPresencia «YO SOY» se tiene el Control Absoluto del  cuerpo. Cuanto más se use esto, más rápidamente se \\nhará la manifestación. \\nPregunta: Si el Gran Sol Central es el Centro Corazón del  Infinito, ¿dónde está eso que es el Centro \\nCerebro?  \\nRespuesta: «En el estado puro, en el Infinito como en lo Finito, donde no hay imperfección, la actividad del \\ncerebro y del corazón se convierte en UNO, porque la f uerza motriz de toda actividad que sale es AMOR DEL'),\n",
       " Document(metadata={'page': 28.0, 'source': 'El libro de oro.pdf'}, page_content='toda ocasión, entonces sí sabes que tienes la Presencia dentro de ti. \\nEl próximo paso es determinar: «YO SOY la Presencia iluminadora, por  la cual nada que yo necesite saber \\npuede ser sustraído, ya que \"YO SOY\" la Sabiduría, \"Y O SOY\" el Poder revelador que me trae todo ante mí \\npara yo poder comprender y actuar de acuerdo».  \\nEs muy fácil una vez que se ha comprendido que «YO SOY la Única Inteligencia y la Única Presencia \\nactuando». el ver cómo tienes tú el cetro entre tus manos físicas y a través de es ta Presencia «YO SOY» \\npuedes obligar a que todo lo que tú necesites saber te  sea revelado. Y yo te aseguro que esto en ninguna \\nforma interfiere con el libre albedrío de ningún otro  individuo y que no hay error ni ningún daño en reclamar y \\npedir lo que es de uno propio, pues al hacer esto no se está interfiriendo con nadie. \\nSi en cualquier momento alguien hace por quitamos lo que nos pertenece, tenemos el derecho de ordenar'),\n",
       " Document(metadata={'page': 46.0, 'source': 'El libro de oro.pdf'}, page_content='Un día, en alguna parte, cada individualización de DIOS, el PADRE, tiene que encontrar el camino de \\nregreso hacia el Padre a través de su «Presencia YO SOY»,  cumpliendo con su ciclo, o ciclos, de \\nindividualizaciones en el uso de la actividad externa del Yo  externo. La tierra es la única esfera donde hay la \\ndensidad de la estructura atómica que experimentas. El reconocimiento consciente y el uso de la «Presencia \\nYO SOY»  que eres, gradualmente aumenta la acción vibratoria  de tu estructura atómica, desvistiendo y li-\\nberando la actividad electrónica que está escondida dentro  del átomo, permitiendo que te vuelvas un Ser Auto-\\nLuminoso. \\nDeseo que lodos los que puedan recibir esto o contactarlo algún día, comprendan muy bien que Yo no soy \\ny nunca fui un Ser Especial creado por Dios. distinto  al resto de la humanidad. Es verdad que había hecho \\nesfuerzos conscientes previos, y había alcanzado mucho antes de la encarnación donde gané la Victoria'),\n",
       " Document(metadata={'page': 71.0, 'source': 'El libro de oro.pdf'}, page_content='desees a través de tu descarga consciente.  \\nTu Poderosa Presencia «YO SOY» es la Fuente de la  Eterna Juventud y Belleza, la cual llamas a la \\nacción y expresión en tu forma humana.  \\nTu Poderosa Presencia «YO SOY» es la Resurrección y la Vida de tu cuerpo, de tu mundo de acción, en \\nesa Perfección que todo corazón humano tanto desea.'),\n",
       " Document(metadata={'page': 24.0, 'source': 'El libro de oro.pdf'}, page_content='Otra afirmación: «YO SOY LA MEMORIA CONSCIENTE Y LA  COMPRENSIÓN EN EL USO DE ESTAS \\nCOSAS» . Cuando tú digas «LA PRESENCIA YO SOY ME VISTE CON MI TRAJE DE LUZ ETERNA Y \\nTRANSCENDENTE» , esto actúa realmente en ese momento. \\nEl lugar secreto del Altísimo es esta Presencia «YO SOY». Las cosas sagradas que te estoy revelando no \\ndebes ponerlas a un lado. Son como perlas. Procura conocer siempre: «YO SOY EL PERFECTO APLOMO \\nEN MI HABLAR Y EN MI ACTUACIÓN EN TODO MOMENTO PORQUE YO SOY LA PRESENCIA \\nPROTECTORA ». Entonces la guardia siempre está montada. \\nLa energía de Dios está siempre en espera para ser di rigida. Inherente en la expresión «YO SOY» está \\ncontenida la actividad autosostenida. Ahora sabes que el tiempo no existe; esto te trae a la acción instantánea \\ny tu precipitación pronto tendrá l ugar. Precediendo a la manifestación s entirás siempre una quietud absoluta. \\nAfirmaciones metafísicas para la per sona que está en pleno caso judicial:'),\n",
       " Document(metadata={'page': 51.0, 'source': 'El libro de oro.pdf'}, page_content='extrae de allí y lo ancla plenamente en el Pl ano Espiritual y en la Presencia «YO SOY». \\nCuando las personas se mezclan con el plano psíquico . se encuentran que todo se distorsiona. No se \\nobtiene ninguna prueba definitiva de la Verdad y se hace la  confusión en la mente. Las entidades del plano \\npsíquico comienzan a profetizar y a veces a alabar . Es lo primero que hacen. Buscan ponemos bajo su \\ndominio. La salvación está en que radie se le puede oponer  a un Mensajero de la Luz. y todo el que trabaja en \\nla Presencia «YO SOY» es Mensajero de la Luz: es Radiación. Aquellos que se les oponen reciben la \\nreacción, ya que la Luz rechaza todo lo que no es igual a ella misma. \\nComienza siempre dando tu gran amor y tu adoraci ón a tu propia Presencia «YO SOY». Luego a las \\nEntidades de Luz que te puedan ayudar, y luego afir ma tu «YO SOY> en afirmaciones como «YO SOY la \\nVictoriosa Presencia en cualquier cosa que yo desee». «YO SOY la Presencia en toda orden que doy,'),\n",
       " Document(metadata={'page': 32.0, 'source': 'El libro de oro.pdf'}, page_content=\"propia conciencia, y al mismo tiempo intensifica esa cualidad en la persona a la cual ha sido mandada. \\nToma la posición eterna de que: « YO SOY lo que quiero Ser».  Debes usar la Presencia «YO SOY» \\nconscientemente siempre. Rarament e, hasta entre los estudiantes, se ha comprendido profundamente lo que \\nla Presencia «YO SOY» significa. Sólo ocasionalm ente ha surgido una verdadera comprensión del «YO SOY», \\nexcepto en los retiros de los Maestros Ascendidos. Jesús fue el primero en darle énfasis 'en el mundo externo. \\nInsisto seriamente que no le des ninguna considerac ión al elemento tiempo. La manifestación viene \\ninstantáneamente cuando le das a la Presencia «YO SOY» la libertad suficiente. Anda, aplica, sabe y deja que \\nla Presencia «YO SOY» se ocupe del elemento tiempo. \\nCuando haces un decreto de la Verdad y te aferras a él, debes recibir. Lo externo no tiene ningún poder por\"),\n",
       " Document(metadata={'page': 39.0, 'source': 'El libro de oro.pdf'}, page_content='Poderosos y son muy reales. \\nDeseo que durante dos minutos sientas este Rayo  Deslumbrante de Luz penetrando en cada átomo de tu \\nSer. \\nHay ciertas actividades que deben ser contactadas por la  Presencia Interna antes que la atención externa \\nse pose en ellas. Esto es difícil de comprender para el  estudiante. El estudiante tiene primero que penetrar y \\nsolamente puede penetrar a través de su Presencia Interna. \\nUna cosa muy simple, pero maravillosa, es la de bendecir cada noche y mañana a esa Presencia \\nMagnífica de Vida que anima la mente y el cuerpo. Es  una cosa tremenda el sentir profundamente esta acción \\nde gracias por la Presencia de la Vida, que contiene dent ro de Ella misma todas las cosas. Solamente tienes \\nque estar agradecido a la Vida por todo lo que Ella es y contiene. La misma Presencia de la Vida nos capacita \\npara hacer las cosas de las cuales estamos consci entes y deseamos hacer, porque no podemos movernos sin'),\n",
       " Document(metadata={'page': 15.0, 'source': 'El libro de oro.pdf'}, page_content='16No le des un pensamiento al mundo o a los individuos que no comprenden estas cosas. Continúa \\nregocijado en la presencia activa, visible, de lo que tú des ees manifestar y ver precipitado en tu vida y tu uso: \\n«YO SOY LA PRESENCIA ACTIVA Y VISIBLE DE  ESTO QUE YO DESEO, YA MANIFESTADO». \\nNuestro sentido común debe decirnos que a menos que nosotros esperemos, aceptemos y gocemos ya \\naquello que deseamos, ¿cómo lo vamos a lograr? El pobre e insignificante ser exterior se pavonea diciendo:  \\n«YO SOY DEMASIADO IMPORTANTE PARA PONER ATENCIÓN A SEMEJANTES CUENTOS DE HADAS» . \\nPues permíteme informarte que algún día los indi viduos que hablan así van a ponerse muy contentos con \\nestos cuentos de hadas y llenarán su mente con esas ideas para verlas surgir. \\nEn cada contacto con el mundo exterior de lo s negocios y cada vez que haya una condición negativa que \\naparente tocar tu mundo, instantáneam ente toma esta determinación:'),\n",
       " Document(metadata={'page': 50.0, 'source': 'El libro de oro.pdf'}, page_content='51contraria a la que deberían tener. Si uno entra en la Pr esencia «YO SOY» tendrá todo el dinero que quiera, y \\néste no podrá ser alejado de él. \\nToma la posición con todo el mundo de que, «solamente la Presencia YO  SOY actúa en esa persona».  \\nToda experiencia externa es solamente una discip lina. Para aquellos que entran en este trabajo, el \\nentrenamiento presente es realmente una escuela final  o experiencia, y es por eso que algunos de ellos \\nsienten que es un poco fuerte. Toda Hueste Ascendida siente con inmensa alegría el Amor y la gratitud que les \\nes enviada, y claro está, responden casi sin límites. \\n«YO SOY» es todo lo que hay presente en todo sitio visible e invisible. La conciencia necesaria llegará a ti de tiempo en tiempo a medida que continúes en el uso de esto. \\nNo te dejes fatigar por «cosas». Solamente mant en la actitud calmada y certera de la Ascensión. \\nCalmadamente, rápidamente y amorosamente acéptala y sola mente sé (esto elimina la tensión). Nada es más'),\n",
       " Document(metadata={'page': 2.0, 'source': 'El libro de oro.pdf'}, page_content='3las civilizaciones que hayan existido. Recuerda que lo primero que toda forma de vida consciente de sí misma \\nexpresa, es «YO SOY». Es mucho más que «yo existo».  Es después, en su contacto  con lo exterior, con \\nactividades incorrectamente calificadas, que él co mienza a aceptar cosas menores que «YO SOY». \\nAhora ves, amado discípulo, que cuando tú dices «yo estoy enfermo» estás deliberadamente inviniendo la \\nperfección natural que encierra el proceso vital. ¿No ves que lo estás bautizando con algo ajeno que jamás \\nposeyó? \\nA través de largas centurias de ignorancia e incomprensión, la humanidad ha cargado de falsedad e \\nirrealidad hasta la atmósfera que la rodea, pues  no tengo que repetirte que cuando tú anuncias «estoy \\nenfermo» es una mentira flagrante respecto a la Divini dad. ¡Ella (YO) jamás puede ser sino Perfecta y llena de \\nVida y Salud! \\nTE PIDO, AMADO ESTUDIANTE, EN EL NOMB RE DE DIOS, QUE CESES DE EMPLEAR ESAS'),\n",
       " Document(metadata={'page': 32.0, 'source': 'El libro de oro.pdf'}, page_content='es entrar en la Presencia «YO SOY» y que ella es el Resolvedor Indiscutible de cada problema, harás que \\ntodos los problemas desaparezcan tan ciertamente co mo Yo te hablo, porque cuando vives en la Presencia \\n«YO SOY» constantemente, calmadament e y con determinación suficiente, en vez de tener muchos problemas \\ndonde no había sido resuelto, habrás entrado en el estado donde no   hay ninguno. \\nOrdeno al poder en estas palabras de hoy, que lleven a todo el mundo que las oye o lee la Convicción \\nVerdadera y la Comprensión tras ellas. \\nPara el Cerebro:  «YO SOY el aceleramiento de las células de esta (mía o tuya)  estructura cerebral, \\ncausando que se expanda y reciba la Dirección Inte ligente de la Poderosa Presencia Interna». \\nDebes saber que tienes el poder de calificar consci entemente tu pensamiento de la manera que desees a \\ntravés de la Presencia «YO SOY». No hay nadie que te  diga lo que debes hacer porque eres un Ser Libre con')]"
      ]
     },
     "execution_count": 17,
     "metadata": {},
     "output_type": "execute_result"
    }
   ],
   "source": [
    "pregunta = \"que es la presencia yo soy\"\n",
    "documentos = retriever_multi_query().invoke(pregunta)\n",
    "documentos"
   ]
  },
  {
   "cell_type": "code",
   "execution_count": 18,
   "metadata": {},
   "outputs": [
    {
     "data": {
      "text/plain": [
       "[Document(metadata={'page': 28.0, 'source': 'El libro de oro.pdf'}, page_content='toda ocasión, entonces sí sabes que tienes la Presencia dentro de ti. \\nEl próximo paso es determinar: «YO SOY la Presencia iluminadora, por  la cual nada que yo necesite saber \\npuede ser sustraído, ya que \"YO SOY\" la Sabiduría, \"Y O SOY\" el Poder revelador que me trae todo ante mí \\npara yo poder comprender y actuar de acuerdo».  \\nEs muy fácil una vez que se ha comprendido que «YO SOY la Única Inteligencia y la Única Presencia \\nactuando». el ver cómo tienes tú el cetro entre tus manos físicas y a través de es ta Presencia «YO SOY» \\npuedes obligar a que todo lo que tú necesites saber te  sea revelado. Y yo te aseguro que esto en ninguna \\nforma interfiere con el libre albedrío de ningún otro  individuo y que no hay error ni ningún daño en reclamar y \\npedir lo que es de uno propio, pues al hacer esto no se está interfiriendo con nadie. \\nSi en cualquier momento alguien hace por quitamos lo que nos pertenece, tenemos el derecho de ordenar'),\n",
       " Document(metadata={'page': 46.0, 'source': 'El libro de oro.pdf'}, page_content='Un día, en alguna parte, cada individualización de DIOS, el PADRE, tiene que encontrar el camino de \\nregreso hacia el Padre a través de su «Presencia YO SOY»,  cumpliendo con su ciclo, o ciclos, de \\nindividualizaciones en el uso de la actividad externa del Yo  externo. La tierra es la única esfera donde hay la \\ndensidad de la estructura atómica que experimentas. El reconocimiento consciente y el uso de la «Presencia \\nYO SOY»  que eres, gradualmente aumenta la acción vibratoria  de tu estructura atómica, desvistiendo y li-\\nberando la actividad electrónica que está escondida dentro  del átomo, permitiendo que te vuelvas un Ser Auto-\\nLuminoso. \\nDeseo que lodos los que puedan recibir esto o contactarlo algún día, comprendan muy bien que Yo no soy \\ny nunca fui un Ser Especial creado por Dios. distinto  al resto de la humanidad. Es verdad que había hecho \\nesfuerzos conscientes previos, y había alcanzado mucho antes de la encarnación donde gané la Victoria'),\n",
       " Document(metadata={'page': 71.0, 'source': 'El libro de oro.pdf'}, page_content='desees a través de tu descarga consciente.  \\nTu Poderosa Presencia «YO SOY» es la Fuente de la  Eterna Juventud y Belleza, la cual llamas a la \\nacción y expresión en tu forma humana.  \\nTu Poderosa Presencia «YO SOY» es la Resurrección y la Vida de tu cuerpo, de tu mundo de acción, en \\nesa Perfección que todo corazón humano tanto desea.'),\n",
       " Document(metadata={'page': 51.0, 'source': 'El libro de oro.pdf'}, page_content='extrae de allí y lo ancla plenamente en el Pl ano Espiritual y en la Presencia «YO SOY». \\nCuando las personas se mezclan con el plano psíquico . se encuentran que todo se distorsiona. No se \\nobtiene ninguna prueba definitiva de la Verdad y se hace la  confusión en la mente. Las entidades del plano \\npsíquico comienzan a profetizar y a veces a alabar . Es lo primero que hacen. Buscan ponemos bajo su \\ndominio. La salvación está en que radie se le puede oponer  a un Mensajero de la Luz. y todo el que trabaja en \\nla Presencia «YO SOY» es Mensajero de la Luz: es Radiación. Aquellos que se les oponen reciben la \\nreacción, ya que la Luz rechaza todo lo que no es igual a ella misma. \\nComienza siempre dando tu gran amor y tu adoraci ón a tu propia Presencia «YO SOY». Luego a las \\nEntidades de Luz que te puedan ayudar, y luego afir ma tu «YO SOY> en afirmaciones como «YO SOY la \\nVictoriosa Presencia en cualquier cosa que yo desee». «YO SOY la Presencia en toda orden que doy,'),\n",
       " Document(metadata={'page': 32.0, 'source': 'El libro de oro.pdf'}, page_content=\"propia conciencia, y al mismo tiempo intensifica esa cualidad en la persona a la cual ha sido mandada. \\nToma la posición eterna de que: « YO SOY lo que quiero Ser».  Debes usar la Presencia «YO SOY» \\nconscientemente siempre. Rarament e, hasta entre los estudiantes, se ha comprendido profundamente lo que \\nla Presencia «YO SOY» significa. Sólo ocasionalm ente ha surgido una verdadera comprensión del «YO SOY», \\nexcepto en los retiros de los Maestros Ascendidos. Jesús fue el primero en darle énfasis 'en el mundo externo. \\nInsisto seriamente que no le des ninguna considerac ión al elemento tiempo. La manifestación viene \\ninstantáneamente cuando le das a la Presencia «YO SOY» la libertad suficiente. Anda, aplica, sabe y deja que \\nla Presencia «YO SOY» se ocupe del elemento tiempo. \\nCuando haces un decreto de la Verdad y te aferras a él, debes recibir. Lo externo no tiene ningún poder por\"),\n",
       " Document(metadata={'page': 50.0, 'source': 'El libro de oro.pdf'}, page_content='51contraria a la que deberían tener. Si uno entra en la Pr esencia «YO SOY» tendrá todo el dinero que quiera, y \\néste no podrá ser alejado de él. \\nToma la posición con todo el mundo de que, «solamente la Presencia YO  SOY actúa en esa persona».  \\nToda experiencia externa es solamente una discip lina. Para aquellos que entran en este trabajo, el \\nentrenamiento presente es realmente una escuela final  o experiencia, y es por eso que algunos de ellos \\nsienten que es un poco fuerte. Toda Hueste Ascendida siente con inmensa alegría el Amor y la gratitud que les \\nes enviada, y claro está, responden casi sin límites. \\n«YO SOY» es todo lo que hay presente en todo sitio visible e invisible. La conciencia necesaria llegará a ti de tiempo en tiempo a medida que continúes en el uso de esto. \\nNo te dejes fatigar por «cosas». Solamente mant en la actitud calmada y certera de la Ascensión. \\nCalmadamente, rápidamente y amorosamente acéptala y sola mente sé (esto elimina la tensión). Nada es más'),\n",
       " Document(metadata={'page': 32.0, 'source': 'El libro de oro.pdf'}, page_content='es entrar en la Presencia «YO SOY» y que ella es el Resolvedor Indiscutible de cada problema, harás que \\ntodos los problemas desaparezcan tan ciertamente co mo Yo te hablo, porque cuando vives en la Presencia \\n«YO SOY» constantemente, calmadament e y con determinación suficiente, en vez de tener muchos problemas \\ndonde no había sido resuelto, habrás entrado en el estado donde no   hay ninguno. \\nOrdeno al poder en estas palabras de hoy, que lleven a todo el mundo que las oye o lee la Convicción \\nVerdadera y la Comprensión tras ellas. \\nPara el Cerebro:  «YO SOY el aceleramiento de las células de esta (mía o tuya)  estructura cerebral, \\ncausando que se expanda y reciba la Dirección Inte ligente de la Poderosa Presencia Interna». \\nDebes saber que tienes el poder de calificar consci entemente tu pensamiento de la manera que desees a \\ntravés de la Presencia «YO SOY». No hay nadie que te  diga lo que debes hacer porque eres un Ser Libre con')]"
      ]
     },
     "execution_count": 18,
     "metadata": {},
     "output_type": "execute_result"
    }
   ],
   "source": [
    "\n",
    "documentos_relevantes = filtrado_relevante(documentos, pregunta)\n",
    "\n",
    "documentos_relevantes"
   ]
  },
  {
   "cell_type": "code",
   "execution_count": 34,
   "metadata": {},
   "outputs": [
    {
     "data": {
      "text/plain": [
       "[Document(metadata={'page': 28.0, 'source': 'El libro de oro.pdf'}, page_content='toda ocasión, entonces sí sabes que tienes la Presencia dentro de ti. \\nEl próximo paso es determinar: «YO SOY la Presencia iluminadora, por  la cual nada que yo necesite saber \\npuede ser sustraído, ya que \"YO SOY\" la Sabiduría, \"Y O SOY\" el Poder revelador que me trae todo ante mí \\npara yo poder comprender y actuar de acuerdo».  \\nEs muy fácil una vez que se ha comprendido que «YO SOY la Única Inteligencia y la Única Presencia \\nactuando». el ver cómo tienes tú el cetro entre tus manos físicas y a través de es ta Presencia «YO SOY» \\npuedes obligar a que todo lo que tú necesites saber te  sea revelado. Y yo te aseguro que esto en ninguna \\nforma interfiere con el libre albedrío de ningún otro  individuo y que no hay error ni ningún daño en reclamar y \\npedir lo que es de uno propio, pues al hacer esto no se está interfiriendo con nadie. \\nSi en cualquier momento alguien hace por quitamos lo que nos pertenece, tenemos el derecho de ordenar'),\n",
       " Document(metadata={'page': 22.0, 'source': 'El libro de oro.pdf'}, page_content='puede ser materializada la idea, por medio del pensami ento y sentimiento creativos, es cosa que se debe \\nmeditar. Esto disolverá la acción de: «¿podré yo?», y en su lugar dirá «YO PUEDO» y «YO SOY». A toda \\nafirmación y decreto agreguen que desean conservar la  memoria de cada experiencia y resultados. \\nSi los estudiantes se mantienen, de tiempo en tiempo re cibirán la iluminación que les dará toda la confianza \\nnecesaria. MANTÉNGANSE ASIDOS A UNA IDEA Y SEPAN QUE CUALQUIER CONOCIMIENTO QUE \\nNECESITEN LES VENDRÁ INSTANTÁNEAMENTE. \\nCUANDO PERMITES QUE TU ATENCIÓN SE FIJE EN ALGO, EN ESE MOMENTO LE ESTÁS DANDO \\nEL PODER DE ACTUAR EN TU MUNDO, ES DECIR,  QUE NO PUEDE EXISTIR UNA CUALIDAD O UNA \\nAPARIENCIA EN TU MUNDO SINO AQ UELLA QUE TÚ MISMO LE DES. \\n \\nCAPITULO IX \\n \\nUna de las cosas más importantes, aún para los estudiant es más sinceros, es la necesidad de darle tiempo a'),\n",
       " Document(metadata={'page': 47.0, 'source': 'El libro de oro.pdf'}, page_content='Tu Presencia Invencible y Tu Inteligencia asumirán el  comando, trayendo la manifestación a mi experiencia \\nrápidamente —hasta con la velocidad del pensamiento—. Yo  sé que Tú eres Jefe de tiempo, sitio y espacio. \\nPor lo tanto, Tú requieres solamente el «ahora» para atr aer a la actividad visible, toda Tu perfección. Yo me \\nmantengo absolutamente firme en la completa aceptaci ón de esto ahora y siempre, y no permitiré que mi \\nmente se aleje de ello porque al fin. Yo sé que somos Uno».  \\nAmado estudiante, podrás agregarle a esto cualquier cosa que necesites, y Yo te aseguro, que si puedes \\nvivir en esto, Yo me esforzaré en ayudarte y experim entarás la apertura de las compuertas de la Abundancia \\nde Dios. \\nLo más deseable e importante que cualquier individuo puede hacer es fijar su mente en la única necesidad \\npermanente y ésta es seguir adelante hasta llegar a la profundidad y firmeza de esta «Poderosa Presencia YO'),\n",
       " Document(metadata={'page': 27.0, 'source': 'El libro de oro.pdf'}, page_content='ESCUCHAR COSAS PERTURBADORAS Y NEGATIVAS, PO RQUE ÉSTAS DEJAN ENTRAR ELEMENTOS \\nINDESEABLES QUE SE INFILTRAN INCONSCIENTEMENT E. Cuando materialmente no se pueda evitar debe \\nhacerse la siguiente afirmación: «YO SOY LA PRESENCIA GUARDIANA QUE CONSUME AL INSTANTE \\nTODO LO QUE BUSQUE PERTURBARME» . Así no solamente se protege él mismo, sino que ayudará \\ntambién a la otra persona. Aunque no se debe temer nada, es necesario mantener una guardia consciente \\nhasta que se haya obtenido la suficiente maestría para controlar los pensamientos, los sentimientos y la \\nreceptividad. \\nProcura mantenerte lo más posible en el gozo y entus iasmo de la Presencia «YO SOY». Entrégale todo el \\npoder y no mantengas preguntas en tu mente. Tira todo a los cuatro vientos, entrégaselo todo y espera sus \\nrevelaciones mágicas. La maravillosa, milagrosa Presencia  es la que puede resolver todas las cosas, todos los')]"
      ]
     },
     "execution_count": 34,
     "metadata": {},
     "output_type": "execute_result"
    }
   ],
   "source": [
    "pregunta = \"que es la presencia yo soy\"\n",
    "docs_query = retriever_multi_query2(pregunta).invoke(pregunta)\n",
    "filtrado_relevante(docs_query[\"docs\"], docs_query[\"query\"])\n",
    "\n"
   ]
  },
  {
   "cell_type": "code",
   "execution_count": 42,
   "metadata": {},
   "outputs": [],
   "source": [
    "# aqui toca modificar el runable para que reciba el diccionario que da el multi query\n",
    "remove_no_relevant_docs_runnable = RunnableLambda(lambda diccionario: filtrado_relevante(diccionario[\"docs\"],diccionario[\"query\"]))"
   ]
  },
  {
   "cell_type": "code",
   "execution_count": 44,
   "metadata": {},
   "outputs": [
    {
     "data": {
      "text/plain": [
       "[Document(metadata={'page': 28.0, 'source': 'El libro de oro.pdf'}, page_content='toda ocasión, entonces sí sabes que tienes la Presencia dentro de ti. \\nEl próximo paso es determinar: «YO SOY la Presencia iluminadora, por  la cual nada que yo necesite saber \\npuede ser sustraído, ya que \"YO SOY\" la Sabiduría, \"Y O SOY\" el Poder revelador que me trae todo ante mí \\npara yo poder comprender y actuar de acuerdo».  \\nEs muy fácil una vez que se ha comprendido que «YO SOY la Única Inteligencia y la Única Presencia \\nactuando». el ver cómo tienes tú el cetro entre tus manos físicas y a través de es ta Presencia «YO SOY» \\npuedes obligar a que todo lo que tú necesites saber te  sea revelado. Y yo te aseguro que esto en ninguna \\nforma interfiere con el libre albedrío de ningún otro  individuo y que no hay error ni ningún daño en reclamar y \\npedir lo que es de uno propio, pues al hacer esto no se está interfiriendo con nadie. \\nSi en cualquier momento alguien hace por quitamos lo que nos pertenece, tenemos el derecho de ordenar'),\n",
       " Document(metadata={'page': 49.0, 'source': 'El libro de oro.pdf'}, page_content='fijaran sus mentes firmemente en que «ninguna cosa externa tiene poder alguno en sus experiencias, excepto \\nel que ellos mismos le dan»  ellos comenzarían a salir de las limitaciones a las que se han sometido. \\nDéjame decirte ahora que casi todo el poder dado a las cosas externas es concedido inconscientemente y \\nsin que muchos estudiantes se hayan dado cuenta de ello. Dirigirse hacia esta Gran Presencia de Dios dentro \\nde ti y darle todo el poder para hacer las cosas que nec esitas y deseas hacer, hará que éstas se manifiesten \\ncon una velocidad y una certeza mucho mayor que la de cualquier agente medicinal. Algunos aplicarán esta \\nidea con una tenacidad tremenda, mientras que otros neces itarán más esfuerzo, pero realmente vale la pena \\nhacerlo. \\nRecuerda que la «Presencia YO SOY»  sabe todas las cosas por toda la  eternidad, en todas las maneras \\npasadas, presentes y futuras sin lími te. Si pensaras en esta Gran Presenc ia, contemplarías y reconocerías'),\n",
       " Document(metadata={'page': 22.0, 'source': 'El libro de oro.pdf'}, page_content='puede ser materializada la idea, por medio del pensami ento y sentimiento creativos, es cosa que se debe \\nmeditar. Esto disolverá la acción de: «¿podré yo?», y en su lugar dirá «YO PUEDO» y «YO SOY». A toda \\nafirmación y decreto agreguen que desean conservar la  memoria de cada experiencia y resultados. \\nSi los estudiantes se mantienen, de tiempo en tiempo re cibirán la iluminación que les dará toda la confianza \\nnecesaria. MANTÉNGANSE ASIDOS A UNA IDEA Y SEPAN QUE CUALQUIER CONOCIMIENTO QUE \\nNECESITEN LES VENDRÁ INSTANTÁNEAMENTE. \\nCUANDO PERMITES QUE TU ATENCIÓN SE FIJE EN ALGO, EN ESE MOMENTO LE ESTÁS DANDO \\nEL PODER DE ACTUAR EN TU MUNDO, ES DECIR,  QUE NO PUEDE EXISTIR UNA CUALIDAD O UNA \\nAPARIENCIA EN TU MUNDO SINO AQ UELLA QUE TÚ MISMO LE DES. \\n \\nCAPITULO IX \\n \\nUna de las cosas más importantes, aún para los estudiant es más sinceros, es la necesidad de darle tiempo a'),\n",
       " Document(metadata={'page': 60.0, 'source': 'El libro de oro.pdf'}, page_content='Te recomiendo que tengas el sentimiento de certeza al aceptar nuestra «Presencia» y la conciencia de la \\nhabilidad Para aplicar la Ley de la Presencia «YO SOY», dentro de ti mismo, porque está aumentando con \\ngran velocidad. \\nNo te desanimes en tu llamado para nuestra apariencia visible. Nuestro oído f unciona perfectamente bien, \\nte lo aseguro y hay en la llamada algo que necesitas. En  la llamada para la manifestación de una cosa hay una \\ncierta acción vibratoria que el estudiante necesita,  que no puede ser explicada, excepto cuando se ve desde la'),\n",
       " Document(metadata={'page': 33.0, 'source': 'El libro de oro.pdf'}, page_content='creyentes, pero es vital que ellos lo comprendan.) \\nAquí hay algo que quiero recalcar a los estudiantes  seriamente. Hay innumerables medios útiles de \\nasistencia para el estudiante serio y sincero, muchos  de los cuales son completamente desconocidos para él, \\npero, no obstante, los aprovechará si su deseo por la Luz es sincero. \\nDespreocuparse de todo y centrarse alegre y determinadamente en esa «Poderosa Presencia Única que \\nYO SOY», nos proporciona un continuo flujo de victorias. Ni ngún esfuerzo hecho en el Nombre y Presencia \\nque «YO SOY» puede fallar nunca, pero debe seguirse avanz ando de una victoria a otra, hasta alcanzar y \\npoder usar el Cetro de su Dominio Completo.')]"
      ]
     },
     "execution_count": 44,
     "metadata": {},
     "output_type": "execute_result"
    }
   ],
   "source": [
    "cadena3 = retriever_multi_query2(pregunta) | remove_no_relevant_docs_runnable\n",
    "cadena3.invoke(pregunta)"
   ]
  },
  {
   "cell_type": "code",
   "execution_count": 46,
   "metadata": {},
   "outputs": [],
   "source": [
    "# Contruyamos la funcion ahora\n",
    "\n",
    "def retriever_filtrado_final(query):\n",
    "\n",
    "    remove_no_relevant_docs_runnable = RunnableLambda(lambda diccionario: filtrado_relevante(diccionario[\"docs\"],diccionario[\"query\"]))\n",
    "    return retriever_multi_query2(pregunta) | remove_no_relevant_docs_runnable\n",
    "\n",
    "\n",
    "\n",
    "\n"
   ]
  },
  {
   "cell_type": "code",
   "execution_count": 47,
   "metadata": {},
   "outputs": [
    {
     "data": {
      "text/plain": [
       "[Document(metadata={'page': 28.0, 'source': 'El libro de oro.pdf'}, page_content='toda ocasión, entonces sí sabes que tienes la Presencia dentro de ti. \\nEl próximo paso es determinar: «YO SOY la Presencia iluminadora, por  la cual nada que yo necesite saber \\npuede ser sustraído, ya que \"YO SOY\" la Sabiduría, \"Y O SOY\" el Poder revelador que me trae todo ante mí \\npara yo poder comprender y actuar de acuerdo».  \\nEs muy fácil una vez que se ha comprendido que «YO SOY la Única Inteligencia y la Única Presencia \\nactuando». el ver cómo tienes tú el cetro entre tus manos físicas y a través de es ta Presencia «YO SOY» \\npuedes obligar a que todo lo que tú necesites saber te  sea revelado. Y yo te aseguro que esto en ninguna \\nforma interfiere con el libre albedrío de ningún otro  individuo y que no hay error ni ningún daño en reclamar y \\npedir lo que es de uno propio, pues al hacer esto no se está interfiriendo con nadie. \\nSi en cualquier momento alguien hace por quitamos lo que nos pertenece, tenemos el derecho de ordenar'),\n",
       " Document(metadata={'page': 32.0, 'source': 'El libro de oro.pdf'}, page_content=\"propia conciencia, y al mismo tiempo intensifica esa cualidad en la persona a la cual ha sido mandada. \\nToma la posición eterna de que: « YO SOY lo que quiero Ser».  Debes usar la Presencia «YO SOY» \\nconscientemente siempre. Rarament e, hasta entre los estudiantes, se ha comprendido profundamente lo que \\nla Presencia «YO SOY» significa. Sólo ocasionalm ente ha surgido una verdadera comprensión del «YO SOY», \\nexcepto en los retiros de los Maestros Ascendidos. Jesús fue el primero en darle énfasis 'en el mundo externo. \\nInsisto seriamente que no le des ninguna considerac ión al elemento tiempo. La manifestación viene \\ninstantáneamente cuando le das a la Presencia «YO SOY» la libertad suficiente. Anda, aplica, sabe y deja que \\nla Presencia «YO SOY» se ocupe del elemento tiempo. \\nCuando haces un decreto de la Verdad y te aferras a él, debes recibir. Lo externo no tiene ningún poder por\"),\n",
       " Document(metadata={'page': 71.0, 'source': 'El libro de oro.pdf'}, page_content='desees a través de tu descarga consciente.  \\nTu Poderosa Presencia «YO SOY» es la Fuente de la  Eterna Juventud y Belleza, la cual llamas a la \\nacción y expresión en tu forma humana.  \\nTu Poderosa Presencia «YO SOY» es la Resurrección y la Vida de tu cuerpo, de tu mundo de acción, en \\nesa Perfección que todo corazón humano tanto desea.'),\n",
       " Document(metadata={'page': 51.0, 'source': 'El libro de oro.pdf'}, page_content='extrae de allí y lo ancla plenamente en el Pl ano Espiritual y en la Presencia «YO SOY». \\nCuando las personas se mezclan con el plano psíquico . se encuentran que todo se distorsiona. No se \\nobtiene ninguna prueba definitiva de la Verdad y se hace la  confusión en la mente. Las entidades del plano \\npsíquico comienzan a profetizar y a veces a alabar . Es lo primero que hacen. Buscan ponemos bajo su \\ndominio. La salvación está en que radie se le puede oponer  a un Mensajero de la Luz. y todo el que trabaja en \\nla Presencia «YO SOY» es Mensajero de la Luz: es Radiación. Aquellos que se les oponen reciben la \\nreacción, ya que la Luz rechaza todo lo que no es igual a ella misma. \\nComienza siempre dando tu gran amor y tu adoraci ón a tu propia Presencia «YO SOY». Luego a las \\nEntidades de Luz que te puedan ayudar, y luego afir ma tu «YO SOY> en afirmaciones como «YO SOY la \\nVictoriosa Presencia en cualquier cosa que yo desee». «YO SOY la Presencia en toda orden que doy,'),\n",
       " Document(metadata={'page': 22.0, 'source': 'El libro de oro.pdf'}, page_content='puede ser materializada la idea, por medio del pensami ento y sentimiento creativos, es cosa que se debe \\nmeditar. Esto disolverá la acción de: «¿podré yo?», y en su lugar dirá «YO PUEDO» y «YO SOY». A toda \\nafirmación y decreto agreguen que desean conservar la  memoria de cada experiencia y resultados. \\nSi los estudiantes se mantienen, de tiempo en tiempo re cibirán la iluminación que les dará toda la confianza \\nnecesaria. MANTÉNGANSE ASIDOS A UNA IDEA Y SEPAN QUE CUALQUIER CONOCIMIENTO QUE \\nNECESITEN LES VENDRÁ INSTANTÁNEAMENTE. \\nCUANDO PERMITES QUE TU ATENCIÓN SE FIJE EN ALGO, EN ESE MOMENTO LE ESTÁS DANDO \\nEL PODER DE ACTUAR EN TU MUNDO, ES DECIR,  QUE NO PUEDE EXISTIR UNA CUALIDAD O UNA \\nAPARIENCIA EN TU MUNDO SINO AQ UELLA QUE TÚ MISMO LE DES. \\n \\nCAPITULO IX \\n \\nUna de las cosas más importantes, aún para los estudiant es más sinceros, es la necesidad de darle tiempo a'),\n",
       " Document(metadata={'page': 46.0, 'source': 'El libro de oro.pdf'}, page_content='mismos, de la calmada intensidad equilibrada por la cual se vuelven conscientes de su «Presencia YO SOY».  \\nTe traigo estas grandes nuevas, porque yo la s comprobé en mi experiencia personal. \\nAntes de que decidiera completamente la manera en que Yo daría el ejemplo a la humanidad, comencé de \\nrepente a usar la afirmación que me vino de un impulso interno: «YO SOY la Resurrección y la Vida».  Dos días \\ndespués que comencé a usar esa afirmación con gran r egocijo, vi lo que se debía hacer, y deseo asegurarte \\nque fue el uso consciente de la Poderosa Afirmación: «YO SOY la Resurrección y la Vida»,  que me dio el \\npoder para hacer la ascensión en presencia de tantos y r egistrar en los archivos etéricos ese ejemplo que se \\nmantendrá presente eternament e para toda la humanidad. \\nDesafortunadamente, el velo de la idea ortodoxa cubrió  las mentes de la gente, impidiendo la comprensión')]"
      ]
     },
     "execution_count": 47,
     "metadata": {},
     "output_type": "execute_result"
    }
   ],
   "source": [
    "cadena_retriever_final = retriever_filtrado_final(pregunta)\n",
    "cadena_retriever_final.invoke(pregunta)"
   ]
  },
  {
   "cell_type": "code",
   "execution_count": null,
   "metadata": {},
   "outputs": [],
   "source": []
  },
  {
   "cell_type": "markdown",
   "metadata": {},
   "source": [
    "# Probando las funciones desdee los modulos"
   ]
  },
  {
   "cell_type": "code",
   "execution_count": 1,
   "metadata": {},
   "outputs": [],
   "source": [
    "from carga_libros import cargar_libros"
   ]
  },
  {
   "cell_type": "code",
   "execution_count": 2,
   "metadata": {},
   "outputs": [
    {
     "data": {
      "text/plain": [
       "'El documento otro ha sido cargado con éxito'"
      ]
     },
     "execution_count": 2,
     "metadata": {},
     "output_type": "execute_result"
    }
   ],
   "source": [
    "ruta = \"El libro de oro.pdf\"\n",
    "comentario = \"este libro es genial y trata de tu potencial espiritual\"\n",
    "titulo = \"otro\"\n",
    "cargar_libros(ruta,titulo, comentario)"
   ]
  },
  {
   "cell_type": "code",
   "execution_count": 4,
   "metadata": {},
   "outputs": [
    {
     "data": {
      "text/plain": [
       "'Ya existe este documento en la base de datos vectorial'"
      ]
     },
     "execution_count": 4,
     "metadata": {},
     "output_type": "execute_result"
    }
   ],
   "source": [
    "cargar_libros(ruta,titulo, comentario)"
   ]
  },
  {
   "cell_type": "code",
   "execution_count": 3,
   "metadata": {},
   "outputs": [],
   "source": [
    "from funcion_retrievel import  retriever_multi_query, retriever_filtrado_final\n"
   ]
  },
  {
   "cell_type": "code",
   "execution_count": 6,
   "metadata": {},
   "outputs": [
    {
     "data": {
      "text/plain": [
       "{'docs': [Document(metadata={'page': 4.0, 'source': '/tmp/tmpscfy2kq6.pdf'}, page_content='5determinando cómo quieres que actúen para ti. \\nNadie puede preguntar: ¿Y cómo es que yo hago para calificar la energía? Todo el mundo conoce la \\ndiferencia entre lo destructi vo y lo constructivo en pensam iento, sentimiento y acción. \\nEl estudiante, al recibir esta in strucción, debe constantemente analizar el  motivo que lo impele para detectar \\nsi hay algún sentimiento de orgullo intelectual, de arroganc ia o de testarudez en la mente y cuerpo exterior. Si \\nhay algún deseo solapado de discutir o de probar que la in strucción está errada, en lugar de recibir la \\nBendición y la Verdad, el individuo ha cerrado incon scientemente la puerta, y por el momento ha anulado su \\nhabilidad de recibir el bien ofrecido. \\nTambién quiero recordarles a los discípulos, que no obs tante sus opiniones personales respecto a lo que \\ndebe ser o no la Verdad, yo he comprobado a través de muchas centurias estas instrucciones condensadas'),\n",
       "  Document(metadata={'page': 28.0, 'source': 'El libro de oro.pdf'}, page_content='toda ocasión, entonces sí sabes que tienes la Presencia dentro de ti. \\nEl próximo paso es determinar: «YO SOY la Presencia iluminadora, por  la cual nada que yo necesite saber \\npuede ser sustraído, ya que \"YO SOY\" la Sabiduría, \"Y O SOY\" el Poder revelador que me trae todo ante mí \\npara yo poder comprender y actuar de acuerdo».  \\nEs muy fácil una vez que se ha comprendido que «YO SOY la Única Inteligencia y la Única Presencia \\nactuando». el ver cómo tienes tú el cetro entre tus manos físicas y a través de es ta Presencia «YO SOY» \\npuedes obligar a que todo lo que tú necesites saber te  sea revelado. Y yo te aseguro que esto en ninguna \\nforma interfiere con el libre albedrío de ningún otro  individuo y que no hay error ni ningún daño en reclamar y \\npedir lo que es de uno propio, pues al hacer esto no se está interfiriendo con nadie. \\nSi en cualquier momento alguien hace por quitamos lo que nos pertenece, tenemos el derecho de ordenar'),\n",
       "  Document(metadata={'page': 32.0, 'source': 'El libro de oro.pdf'}, page_content=\"propia conciencia, y al mismo tiempo intensifica esa cualidad en la persona a la cual ha sido mandada. \\nToma la posición eterna de que: « YO SOY lo que quiero Ser».  Debes usar la Presencia «YO SOY» \\nconscientemente siempre. Rarament e, hasta entre los estudiantes, se ha comprendido profundamente lo que \\nla Presencia «YO SOY» significa. Sólo ocasionalm ente ha surgido una verdadera comprensión del «YO SOY», \\nexcepto en los retiros de los Maestros Ascendidos. Jesús fue el primero en darle énfasis 'en el mundo externo. \\nInsisto seriamente que no le des ninguna considerac ión al elemento tiempo. La manifestación viene \\ninstantáneamente cuando le das a la Presencia «YO SOY» la libertad suficiente. Anda, aplica, sabe y deja que \\nla Presencia «YO SOY» se ocupe del elemento tiempo. \\nCuando haces un decreto de la Verdad y te aferras a él, debes recibir. Lo externo no tiene ningún poder por\"),\n",
       "  Document(metadata={'page': 71.0, 'source': 'El libro de oro.pdf'}, page_content='desees a través de tu descarga consciente.  \\nTu Poderosa Presencia «YO SOY» es la Fuente de la  Eterna Juventud y Belleza, la cual llamas a la \\nacción y expresión en tu forma humana.  \\nTu Poderosa Presencia «YO SOY» es la Resurrección y la Vida de tu cuerpo, de tu mundo de acción, en \\nesa Perfección que todo corazón humano tanto desea.'),\n",
       "  Document(metadata={'page': 2.0, 'source': 'El libro de oro.pdf'}, page_content='cosas. El «YO SOY» es el poder de reconocer  la Perfección en cada uno y en todas partes. \\nCuando piensas en la expresión «YO SOY», significa que tú ya sabes  que tienes a Dios en Acción \\nexpresando en tu vida. No permitas que las falsas  apreciaciones y expresiones continúen gobernándote y \\nlimitándote. Rememora constantemente: «YO SOY», POR CONSIGUIENTE SOY DIOS EN ACCIÓN; \\n«YO SOY» VIDA, OPULENCIA, VERDAD, MANIFESTADOS YA. \\nAsí, recordándote esta Presencia Inv encible, mantienes la puerta abier ta para que ÉL (la Presencia «YO \\nSOY») teja en tu manifestación exterior toda Su Perfección. \\nPor Dios, no creas que puedes continuar usando dec retos errados y que de alguna manera se van a \\nenderezar y vas a manifestar cosas buenas, porque es im posible que eso suceda. En los hatos usan hierros \\npara marcar con fuego a las reses. ¡Yo quisiera poder marc arte con un hierro que te fijara en la conciencia'),\n",
       "  Document(metadata={'page': 46.0, 'source': 'El libro de oro.pdf'}, page_content='mismos, de la calmada intensidad equilibrada por la cual se vuelven conscientes de su «Presencia YO SOY».  \\nTe traigo estas grandes nuevas, porque yo la s comprobé en mi experiencia personal. \\nAntes de que decidiera completamente la manera en que Yo daría el ejemplo a la humanidad, comencé de \\nrepente a usar la afirmación que me vino de un impulso interno: «YO SOY la Resurrección y la Vida».  Dos días \\ndespués que comencé a usar esa afirmación con gran r egocijo, vi lo que se debía hacer, y deseo asegurarte \\nque fue el uso consciente de la Poderosa Afirmación: «YO SOY la Resurrección y la Vida»,  que me dio el \\npoder para hacer la ascensión en presencia de tantos y r egistrar en los archivos etéricos ese ejemplo que se \\nmantendrá presente eternament e para toda la humanidad. \\nDesafortunadamente, el velo de la idea ortodoxa cubrió  las mentes de la gente, impidiendo la comprensión'),\n",
       "  Document(metadata={'page': 47.0, 'source': 'El libro de oro.pdf'}, page_content='visibilidad (en sus manos) estos tesoros almacenados. No piensen que me he perdido en ensueños fantásticos. Yo estoy trayendo esto a vues tra atención para beneficio y bendición propios. \\nDeseo que te recojas durante unos minutos y converses con tu «Presencia YO SOY»  diciéndole algo así: \\n«Gran Presencia Maestra que YO SOY, te Amo, te Adoro. Me  vuelvo a Ti, Plenitud de lodo Poder Creativo, \\ntodo Amor, toda Sabiduría y a través de este Poder que Eres, te doy todo Poder para que hagas visible en mis \\nmanos y uso la realización de cada deseo mío. Ya  no pretendo tener ningún poder, porque ahora te reclamo a \\nTi, la única Presencia Conquistadora de todo, en mi hogar, mi vida, mi mundo y mi experiencia. Reconozco Tu \\nSupremacía Completa y Tu Dominio sobre todas las cosas,  y mientras mi conciencia se fije en una realización, \\nTu Presencia Invencible y Tu Inteligencia asumirán el  comando, trayendo la manifestación a mi experiencia'),\n",
       "  Document(metadata={'page': 46.0, 'source': 'El libro de oro.pdf'}, page_content='Un día, en alguna parte, cada individualización de DIOS, el PADRE, tiene que encontrar el camino de \\nregreso hacia el Padre a través de su «Presencia YO SOY»,  cumpliendo con su ciclo, o ciclos, de \\nindividualizaciones en el uso de la actividad externa del Yo  externo. La tierra es la única esfera donde hay la \\ndensidad de la estructura atómica que experimentas. El reconocimiento consciente y el uso de la «Presencia \\nYO SOY»  que eres, gradualmente aumenta la acción vibratoria  de tu estructura atómica, desvistiendo y li-\\nberando la actividad electrónica que está escondida dentro  del átomo, permitiendo que te vuelvas un Ser Auto-\\nLuminoso. \\nDeseo que lodos los que puedan recibir esto o contactarlo algún día, comprendan muy bien que Yo no soy \\ny nunca fui un Ser Especial creado por Dios. distinto  al resto de la humanidad. Es verdad que había hecho \\nesfuerzos conscientes previos, y había alcanzado mucho antes de la encarnación donde gané la Victoria'),\n",
       "  Document(metadata={'page': 21.0, 'source': 'El libro de oro.pdf'}, page_content='22cuando alguien les ha desagradado en alguna forma y ellos se per miten volver a repasar el incidente, se están \\ngrabando y fabricando ese caso en sus conciencias pur as, ensuciándolas y atrayendo el resultado para que \\nvuelva una y otra vez a ocurrir. \\nPero yo quiero imprimir en las mentes de los estudi antes que es tonto dejarse afectar y perturbar por \\nactividades, reales o imaginarias, de la c onciencia exterior; ya que una vez que sepan «YO SOY LA ÚNICA \\nPRESENCIA TODOPODEROSA ACTUANDO EN MI  MENTE, MI CUERPO Y MI MUNDO» , ya no podrán ser \\nafectados ni perturbados por ninguna asociación del mundo exterior. Deben saber que están enteramente in-\\nmunes de las molestias y perturbaciones de la m ente de otros, no importa lo que traten de hacemos. \\nCUANDO EL INDIVIDUO SE DA CUENTA DE QUE SU PROPIO PENSAMIENTO Y SENTIMIENTO LE \\nPUEDE PRODUCIR TODO LO QUE ÉL NECESITE, SE SENTIRÁ LIBRE DEL DESEO DE LAS RIQUEZAS Y \\nTODO LO QUE EL MUNDO EXTERIOR PUEDA OFRECERLE.'),\n",
       "  Document(metadata={'page': 46.0, 'source': 'El libro de oro.pdf'}, page_content='verdad: cada individuo que mande su pensamiento conscient e a Mí con el deseo de ser elevado por sobre las \\nlimitaciones de la tierra o de su propia creación, y viva  de acuerdo a ello, recibirá de mí toda la asistencia \\nposible para ser dada de acuerdo a los escalones de crec imiento de la conciencia que alcanzara de tiempo en \\ntiempo. \\nNo me entiendas mal, cuando me refiero a crecim iento. Estoy hablando de la humanidad en general. No me \\nrefiero a algunos que tienen un logro previo suficiente par a que en el uso presente y la completa aceptación de \\nsu «Presencia YO SOY»,  puedan hendir el velo de la creación humana y avanzar en el «Abrazo de la \\nResplandeciente Presencia YO SOY Ascendida»  en cualquier momento. Hay algunos en el grupo de \\nestudiantes que se ha formado, para quienes es pos ible hacer esto. Eso depende enteramente de ellos \\nmismos, de la calmada intensidad equilibrada por la cual se vuelven conscientes de su «Presencia YO SOY».'),\n",
       "  Document(metadata={'page': 51.0, 'source': 'El libro de oro.pdf'}, page_content='sugerencia ajena. Tú tienes tu Presencia «YO SO Y» que es Omni-inteligente, de manera que hazte \\nimpermeable a toda sugestión buena o mala. \\nAlgún día consagraré una plática entera al sabio m anejo de las cosas psíquicas (astrales, lunares, \\npsiquismo, etc.). No existe una persona en diez mil que comprenda que el despertar de la clarividencia no es \\nespiritual. Cuando se comienza a ver en el plano psíqui co, sólo se está usando la vista física, pero algo \\nexpandida. Eso es todo. \\nEn el plano psíquico también se reciben sugerencias que ofrecen un mínimo de la verdad, lo suficiente para \\ndespertar el interés del sujeto hasta que las fuerzas psíquicas (dañinas) se apoderen de él. Esto puede ocurrir por lo fascinante del fenómeno, pero sólo hay que enfocar la atención en la Presencia «YO SOY» y ésta lo \\nextrae de allí y lo ancla plenamente en el Pl ano Espiritual y en la Presencia «YO SOY».'),\n",
       "  Document(metadata={'page': 34.0, 'source': 'El libro de oro.pdf'}, page_content='Por lo tanto, si alguien que tiene este hábito toma la posición determinada de que: «YO SOY la Presencia \\ndominante que prohibe  esta tontería y mantengo el control de mi Mente y mi Cuerno eternamente»,  lo \\ncontrolaran para siempre. \\nCuando se comienza a sentir el más pequeño síntom a, rápidamente se hace conciencia de que: «YO SOY \\nla Presencia dominante y yo Mantengo mi Conciencia aquí».  Uno tiene que comprender que al ordenar la \\nPresencia «YO SOY» se tiene el Control Absoluto del  cuerpo. Cuanto más se use esto, más rápidamente se \\nhará la manifestación. \\nPregunta: Si el Gran Sol Central es el Centro Corazón del  Infinito, ¿dónde está eso que es el Centro \\nCerebro?  \\nRespuesta: «En el estado puro, en el Infinito como en lo Finito, donde no hay imperfección, la actividad del \\ncerebro y del corazón se convierte en UNO, porque la f uerza motriz de toda actividad que sale es AMOR DEL')],\n",
       " 'query': 'que es la presencia yo soy'}"
      ]
     },
     "execution_count": 6,
     "metadata": {},
     "output_type": "execute_result"
    }
   ],
   "source": [
    "\n",
    "pregunta = \"que es la presencia yo soy\"\n",
    "\n",
    "resultado = retriever_multi_query(pregunta).invoke(pregunta)\n",
    "resultado "
   ]
  },
  {
   "cell_type": "code",
   "execution_count": 7,
   "metadata": {},
   "outputs": [
    {
     "data": {
      "text/plain": [
       "[Document(metadata={'page': 28.0, 'source': 'El libro de oro.pdf'}, page_content='toda ocasión, entonces sí sabes que tienes la Presencia dentro de ti. \\nEl próximo paso es determinar: «YO SOY la Presencia iluminadora, por  la cual nada que yo necesite saber \\npuede ser sustraído, ya que \"YO SOY\" la Sabiduría, \"Y O SOY\" el Poder revelador que me trae todo ante mí \\npara yo poder comprender y actuar de acuerdo».  \\nEs muy fácil una vez que se ha comprendido que «YO SOY la Única Inteligencia y la Única Presencia \\nactuando». el ver cómo tienes tú el cetro entre tus manos físicas y a través de es ta Presencia «YO SOY» \\npuedes obligar a que todo lo que tú necesites saber te  sea revelado. Y yo te aseguro que esto en ninguna \\nforma interfiere con el libre albedrío de ningún otro  individuo y que no hay error ni ningún daño en reclamar y \\npedir lo que es de uno propio, pues al hacer esto no se está interfiriendo con nadie. \\nSi en cualquier momento alguien hace por quitamos lo que nos pertenece, tenemos el derecho de ordenar'),\n",
       " Document(metadata={'page': 71.0, 'source': 'El libro de oro.pdf'}, page_content='desees a través de tu descarga consciente.  \\nTu Poderosa Presencia «YO SOY» es la Fuente de la  Eterna Juventud y Belleza, la cual llamas a la \\nacción y expresión en tu forma humana.  \\nTu Poderosa Presencia «YO SOY» es la Resurrección y la Vida de tu cuerpo, de tu mundo de acción, en \\nesa Perfección que todo corazón humano tanto desea.'),\n",
       " Document(metadata={'page': 2.0, 'source': 'El libro de oro.pdf'}, page_content='cosas. El «YO SOY» es el poder de reconocer  la Perfección en cada uno y en todas partes. \\nCuando piensas en la expresión «YO SOY», significa que tú ya sabes  que tienes a Dios en Acción \\nexpresando en tu vida. No permitas que las falsas  apreciaciones y expresiones continúen gobernándote y \\nlimitándote. Rememora constantemente: «YO SOY», POR CONSIGUIENTE SOY DIOS EN ACCIÓN; \\n«YO SOY» VIDA, OPULENCIA, VERDAD, MANIFESTADOS YA. \\nAsí, recordándote esta Presencia Inv encible, mantienes la puerta abier ta para que ÉL (la Presencia «YO \\nSOY») teja en tu manifestación exterior toda Su Perfección. \\nPor Dios, no creas que puedes continuar usando dec retos errados y que de alguna manera se van a \\nenderezar y vas a manifestar cosas buenas, porque es im posible que eso suceda. En los hatos usan hierros \\npara marcar con fuego a las reses. ¡Yo quisiera poder marc arte con un hierro que te fijara en la conciencia'),\n",
       " Document(metadata={'page': 32.0, 'source': 'El libro de oro.pdf'}, page_content=\"propia conciencia, y al mismo tiempo intensifica esa cualidad en la persona a la cual ha sido mandada. \\nToma la posición eterna de que: « YO SOY lo que quiero Ser».  Debes usar la Presencia «YO SOY» \\nconscientemente siempre. Rarament e, hasta entre los estudiantes, se ha comprendido profundamente lo que \\nla Presencia «YO SOY» significa. Sólo ocasionalm ente ha surgido una verdadera comprensión del «YO SOY», \\nexcepto en los retiros de los Maestros Ascendidos. Jesús fue el primero en darle énfasis 'en el mundo externo. \\nInsisto seriamente que no le des ninguna considerac ión al elemento tiempo. La manifestación viene \\ninstantáneamente cuando le das a la Presencia «YO SOY» la libertad suficiente. Anda, aplica, sabe y deja que \\nla Presencia «YO SOY» se ocupe del elemento tiempo. \\nCuando haces un decreto de la Verdad y te aferras a él, debes recibir. Lo externo no tiene ningún poder por\")]"
      ]
     },
     "execution_count": 7,
     "metadata": {},
     "output_type": "execute_result"
    }
   ],
   "source": [
    "pregunta = \"que es la presencia yo soy\"\n",
    "resultado_final = retriever_filtrado_final(pregunta)\n",
    "resultado_final.invoke(pregunta)"
   ]
  },
  {
   "cell_type": "code",
   "execution_count": null,
   "metadata": {},
   "outputs": [],
   "source": [
    "# funionan correctamente, ahora |vemoas la cadena completa del RAG"
   ]
  },
  {
   "cell_type": "code",
   "execution_count": 4,
   "metadata": {},
   "outputs": [],
   "source": [
    "from langchain_core.prompts import ChatPromptTemplate\n",
    "from langchain_ollama import ChatOllama\n",
    "from langchain_core.output_parsers import StrOutputParser\n",
    "from funcion_retrievel import  retriever_multi_query, retriever_filtrado_final\n",
    "\n",
    "prompt = ChatPromptTemplate.from_messages([\n",
    "  (\"human\", \"\"\"You are an assistant for question-answering tasks. Use the following pieces of retrieved context to answer the question. \n",
    "If you don't know the answer, just say that you don't know. Use 8 sentences maximum and keep the answer concise and ensure it contains relevant information.\n",
    "Question: {question} \n",
    "Context: {context} \n",
    "Answer:\"\"\"),\n",
    "])\n",
    "\n",
    "llm = ChatOllama(\n",
    "    model=\"llama3.1\",\n",
    "    temperature=0,\n",
    "    # other params...\n",
    ")\n"
   ]
  },
  {
   "cell_type": "code",
   "execution_count": 5,
   "metadata": {},
   "outputs": [],
   "source": [
    "pregunta = \"que es la presencia yo soy\"\n",
    "resultado_final = retriever_filtrado_final(pregunta)\n",
    "docs = resultado_final.invoke(pregunta)\n",
    "\n",
    "\n",
    "rag_chain = prompt | llm | StrOutputParser()\n",
    "\n",
    "generation = rag_chain.invoke({\"context\": docs, \"question\": pregunta})"
   ]
  },
  {
   "cell_type": "code",
   "execution_count": 18,
   "metadata": {},
   "outputs": [
    {
     "data": {
      "text/plain": [
       "'La Presencia \"YO SOY\" es la presencia iluminadora y sabiduría que actúa dentro de cada ser humano. Es el poder revelador que trae todo ante uno para comprender y actuar de acuerdo. También se refiere a la invencible Presencia de Dios, que es la actividad inteligente del mundo y sus asuntos.'"
      ]
     },
     "execution_count": 18,
     "metadata": {},
     "output_type": "execute_result"
    }
   ],
   "source": [
    "generation"
   ]
  },
  {
   "cell_type": "code",
   "execution_count": 7,
   "metadata": {},
   "outputs": [
    {
     "data": {
      "text/plain": [
       "[Document(metadata={'page': 46.0, 'source': 'El libro de oro.pdf'}, page_content='mismos, de la calmada intensidad equilibrada por la cual se vuelven conscientes de su «Presencia YO SOY».  \\nTe traigo estas grandes nuevas, porque yo la s comprobé en mi experiencia personal. \\nAntes de que decidiera completamente la manera en que Yo daría el ejemplo a la humanidad, comencé de \\nrepente a usar la afirmación que me vino de un impulso interno: «YO SOY la Resurrección y la Vida».  Dos días \\ndespués que comencé a usar esa afirmación con gran r egocijo, vi lo que se debía hacer, y deseo asegurarte \\nque fue el uso consciente de la Poderosa Afirmación: «YO SOY la Resurrección y la Vida»,  que me dio el \\npoder para hacer la ascensión en presencia de tantos y r egistrar en los archivos etéricos ese ejemplo que se \\nmantendrá presente eternament e para toda la humanidad. \\nDesafortunadamente, el velo de la idea ortodoxa cubrió  las mentes de la gente, impidiendo la comprensión'),\n",
       " Document(metadata={'page': 47.0, 'source': 'El libro de oro.pdf'}, page_content='Tu Presencia Invencible y Tu Inteligencia asumirán el  comando, trayendo la manifestación a mi experiencia \\nrápidamente —hasta con la velocidad del pensamiento—. Yo  sé que Tú eres Jefe de tiempo, sitio y espacio. \\nPor lo tanto, Tú requieres solamente el «ahora» para atr aer a la actividad visible, toda Tu perfección. Yo me \\nmantengo absolutamente firme en la completa aceptaci ón de esto ahora y siempre, y no permitiré que mi \\nmente se aleje de ello porque al fin. Yo sé que somos Uno».  \\nAmado estudiante, podrás agregarle a esto cualquier cosa que necesites, y Yo te aseguro, que si puedes \\nvivir en esto, Yo me esforzaré en ayudarte y experim entarás la apertura de las compuertas de la Abundancia \\nde Dios. \\nLo más deseable e importante que cualquier individuo puede hacer es fijar su mente en la única necesidad \\npermanente y ésta es seguir adelante hasta llegar a la profundidad y firmeza de esta «Poderosa Presencia YO')]"
      ]
     },
     "execution_count": 7,
     "metadata": {},
     "output_type": "execute_result"
    }
   ],
   "source": [
    "docs"
   ]
  },
  {
   "cell_type": "code",
   "execution_count": 26,
   "metadata": {},
   "outputs": [],
   "source": [
    "def referencias_docs(docs):\n",
    "    \n",
    "    \"\"\"\n",
    "    Genera una cadena de referencias a partir de una lista de documentos.\n",
    "\n",
    "    Args:\n",
    "        docs (list): Lista de documentos, donde cada documento es un objeto con un atributo `metadata` que contiene información sobre la página y el origen.\n",
    "\n",
    "    Returns:\n",
    "        str: Cadena de referencias en formato \"Título [fuente] y Página [página]\", separadas por comas y espacios.\n",
    "\n",
    "    Ejemplo:\n",
    "        >>> docs = [doc1, doc2, doc3]\n",
    "        >>> referencias = referencias_docs(docs)\n",
    "        >>> print(referencias)\n",
    "        Título El libro de oro.pdf y Página 28, Título El libro de oro.pdf y Página 71, Título El libro de oro.pdf y Página 32, Título El libro de oro.pdf y Página 1\n",
    "    \"\"\"\n",
    "    \n",
    "    referencia = []\n",
    "    for doc in docs:\n",
    "        referencia.append(f\"Título {doc.metadata['source']} y Página {doc.metadata['page']}\")\n",
    "\n",
    "    referencia = \", \".join(referencia)\n",
    "\n",
    "    return referencia"
   ]
  },
  {
   "cell_type": "code",
   "execution_count": 27,
   "metadata": {},
   "outputs": [],
   "source": [
    "from langchain_core.prompts import ChatPromptTemplate\n",
    "from langchain_ollama import ChatOllama\n",
    "from langchain_core.output_parsers import StrOutputParser\n",
    "from funcion_retrievel import  retriever_multi_query, retriever_filtrado_final\n",
    "\n",
    "\n",
    "\n",
    "def generation_retriever(query):\n",
    "    \n",
    "    prompt = ChatPromptTemplate.from_messages([\n",
    "    (\"human\", \"\"\"You are an assistant for question-answering tasks. Use the following pieces of retrieved context to answer the question. \n",
    "    If you don't know the answer, just say that you don't know. Use 8 sentences maximum and keep the answer concise and ensure it contains relevant information.\n",
    "    Question: {question} \n",
    "    Context: {context} \n",
    "    Answer:\"\"\"),\n",
    "    ])\n",
    "    llm = ChatOllama(\n",
    "    model=\"llama3.1\",\n",
    "    temperature=0,\n",
    "    \n",
    "    )\n",
    "    \n",
    "    resultado_final = retriever_filtrado_final(pregunta)\n",
    "    docs = resultado_final.invoke(pregunta)\n",
    "\n",
    "    referencias = referencias_docs(docs)  \n",
    "    rag_chain = prompt | llm | StrOutputParser()\n",
    "    generation = rag_chain.invoke({\"context\": docs, \"question\": query})\n",
    "\n",
    "    \n",
    "    \n",
    "    return generation + referencias\n",
    "\n",
    "\n",
    "\n",
    "\n"
   ]
  },
  {
   "cell_type": "code",
   "execution_count": 29,
   "metadata": {},
   "outputs": [
    {
     "name": "stdout",
     "output_type": "stream",
     "text": [
      "La \"Presencia YO SOY\" se refiere a la conciencia divina y omnipotente que reside en cada individuo. Es la fuente de la Eterna Juventud y Belleza, la Resurrección y la Vida, y el poderoso motor que impulsa la acción y la expresión humana. La \"Presencia YO SOY\" es la verdad fundamental y la realidad última de cada ser humano, y su reconocimiento y aceptación pueden llevar a una comprensión profunda de la vida y la manifestación de la realidad deseada.Título El libro de oro.pdf y Página 28.0, Título El libro de oro.pdf y Página 32.0, Título El libro de oro.pdf y Página 71.0, Título /tmp/tmpscfy2kq6.pdf y Página 41.0, Título El libro de oro.pdf y Página 46.0, Título El libro de oro.pdf y Página 4.0\n"
     ]
    }
   ],
   "source": [
    "pregunta = \"que es la presencia yo soy\"\n",
    "print(generation_retriever(pregunta))"
   ]
  },
  {
   "cell_type": "code",
   "execution_count": null,
   "metadata": {},
   "outputs": [],
   "source": []
  }
 ],
 "metadata": {
  "kernelspec": {
   "display_name": ".venv",
   "language": "python",
   "name": "python3"
  },
  "language_info": {
   "codemirror_mode": {
    "name": "ipython",
    "version": 3
   },
   "file_extension": ".py",
   "mimetype": "text/x-python",
   "name": "python",
   "nbconvert_exporter": "python",
   "pygments_lexer": "ipython3",
   "version": "3.10.1"
  }
 },
 "nbformat": 4,
 "nbformat_minor": 2
}
